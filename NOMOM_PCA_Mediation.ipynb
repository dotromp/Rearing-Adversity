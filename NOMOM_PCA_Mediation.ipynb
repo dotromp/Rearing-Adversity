{
 "cells": [
  {
   "cell_type": "code",
   "execution_count": 1,
   "metadata": {
    "deletable": true,
    "editable": true
   },
   "outputs": [],
   "source": [
    "import numpy as np\n",
    "import nibabel as nib\n",
    "import matplotlib.pyplot as plt\n",
    "import seaborn as sns\n",
    "import pandas as pd\n",
    "import statsmodels.api as sm\n",
    "import statsmodels.formula.api as smf\n",
    "import matplotlib as mpl\n",
    "import itertools\n",
    "import re\n",
    "# from ggplot import *\n",
    "from scipy import stats\n",
    "from scipy.stats import pearsonr\n",
    "\n",
    "plt.rcParams['pdf.fonttype'] = 42\n",
    "plt.rcParams['ps.fonttype'] = 42\n",
    "%matplotlib inline"
   ]
  },
  {
   "cell_type": "code",
   "execution_count": 2,
   "metadata": {},
   "outputs": [],
   "source": [
    "#---------------------------------------------------------------------------------------------------------------------\n",
    "#---------------------------------------------------------------------------------------------------------------------\n",
    "##Load csv file\n",
    "##Freshest final latest last newest load loads\n",
    "\n",
    "nomom = pd.read_csv('NOMOM_ALL_data_python.csv', index_col=0, na_values=['NA'])\n",
    "\n",
    "Con=nomom.loc[(nomom['Group'] == \"Con\")]\n",
    "Con.name = 'Con'\n",
    "NR=nomom.loc[(nomom['Group'] == \"NR\")]\n",
    "NR.name = 'NR'\n",
    "\n"
   ]
  },
  {
   "cell_type": "markdown",
   "metadata": {},
   "source": [
    "# PCA across sign vars that show group difference\n",
    "\n",
    "- Incude everything both groups (no early life)\n",
    "- Nomom only\n"
   ]
  },
  {
   "cell_type": "code",
   "execution_count": 3,
   "metadata": {},
   "outputs": [],
   "source": [
    "import matplotlib.pyplot as plt\n",
    "import seaborn as sns\n",
    "import pandas as pd\n",
    "import numpy as np\n",
    "%matplotlib inline\n",
    "from sklearn import decomposition"
   ]
  },
  {
   "cell_type": "code",
   "execution_count": 74,
   "metadata": {},
   "outputs": [],
   "source": [
    "#Select Data & Z-score\n",
    "# this should be all vars with a group difference... \n",
    "# ALSO! It should probably not fillna - that was a shortcut to get it to run.\n",
    "# ALSO, ALSO! you might want to z-score each variable... \n",
    "\n",
    "data=nomom\n",
    "# data=NR\n",
    "\n",
    "def zscore(x):\n",
    "    return (x - x.mean())/x.std()\n",
    "\n",
    "# selected_nomom = data[['NR',#'Dam_s_Age_yrs_at_Subject_s_DOB', \n",
    "# #'X_Days_Single_Birth_to_PET_final','Days_with_mom_in_pair_Birth_to_PET','X_Days_Group_without_mom_Birth_to_PET_final','Year_1_pair','Year_2_pair','Total_Unique_Cagemates_Birth_to_PET_final',\n",
    "# 'EN_NECall_pet_trans','EN_Aall_hip_trans','EN_STall_hip_trans',\n",
    "# 'EO_NECall_pet_trans','EO_NECall_hip_trans',\n",
    "# 'FF_NECall_pet_trans','FF_Aall_hip_trans',\n",
    "# 'SD_NECall_pet_trans','SD_Aall_hip_trans','SD_NECall_hip_trans','SD_STall_hip_trans',\n",
    "# 'LO_Aall_hip_trans',\n",
    "# 'O_CSF_res',\n",
    "# 'jacPos_1_dlpfc', 'jacPos_2_amygWhiteL', 'jacPos_3_amygWhiteR', 'jacNeg_1_temporal', 'jacNeg_2_area10', 'jacNeg_3_ofc',\n",
    "# 'IC_av_ad',\n",
    "# 'rs_fMRI_bilateral_1_neg_bilateral', 'rs_fMRI_bilateral_1_pos_bilateral', 'rs_fMRI_bilateral_2_neg_bilateral', 'rs_fMRI_bilateral_2_pos_bilateral', 'rs_fMRI_bilateral_3_neg_bilateral', 'rs_fMRI_bilateral_4_neg_bilateral', 'rs_fMRI_bilateral_5_neg_bilateral', 'rs_fMRI_bilateral_6_neg_bilateral', 'rs_fMRI_bilateral_7_neg_bilateral',\n",
    "# 'DTI_AD_1_neg_AD', 'DTI_AD_2_neg_AD', 'DTI_AD_3_neg_AD', 'DTI_AD_4_neg_AD', 'DTI_AD_5_neg_AD', 'DTI_AD_6_neg_AD', 'DTI_AD_7_neg_AD', 'DTI_AD_8_neg_AD', 'DTI_MD_10_neg_MD', 'DTI_MD_11_neg_MD', 'DTI_MD_1_neg_MD', 'DTI_MD_2_neg_MD', 'DTI_MD_3_neg_MD', 'DTI_MD_4_neg_MD', 'DTI_MD_5_neg_MD', 'DTI_MD_6_neg_MD', 'DTI_MD_7_neg_MD', 'DTI_MD_8_neg_MD', 'DTI_MD_9_neg_MD', 'DTI_RD_1_neg_RD', 'DTI_RD_2_neg_RD', 'DTI_RD_3_neg_RD', 'DTI_RD_4_neg_RD', 'DTI_RD_5_neg_RD', 'DTI_RD_6_neg_RD', 'DTI_RD_7_neg_RD', 'DTI_RD_8_neg_RD', 'DTI_RD_9_neg_RD', \n",
    "# 'petPos_1_nearInsula', 'petPos_2_insula', 'petNeg_1_parietal',\n",
    "# 'rs_fMRI_postCing_1_neg_postCing', 'rs_fMRI_postCing_1_pos_postCing', 'rs_fMRI_postCing_2_neg_postCing', 'rs_fMRI_postCing_2_pos_postCing', 'rs_fMRI_postCing_3_neg_postCing', 'rs_fMRI_postCing_4_neg_postCing', 'rs_fMRI_postCing_5_neg_postCing', 'rs_fMRI_postCing_6_neg_postCing', 'rs_fMRI_postCing_7_neg_postCing', 'rs_fMRI_postCing_8_neg_postCing',\n",
    "# ]].dropna()\n",
    "\n",
    "selected_nomom = data[['NR',\n",
    "#BEHAVIOR\n",
    "'EN_NECall_pet_trans','EN_Aall_hip_trans','EN_STall_hip_trans',\n",
    "'EO_NECall_pet_trans','EO_NECall_hip_trans',\n",
    "'FF_NECall_pet_trans','FF_Aall_hip_trans',\n",
    "'LO_Aall_hip_trans',\n",
    "'SD_NECall_pet_trans','SD_Aall_hip_trans','SD_NECall_hip_trans','SD_STall_hip_trans',\n",
    "#HORMONES\n",
    "# 'Oxy_CSF_Rep1_resid',\n",
    "# 'Oxy_CSF_Rep2_resid',\n",
    "'Oxy_CSF_Mean_reps_resid',\n",
    "# 'Oxy_CSF_Mean_reps_resid_CV',\n",
    "# 'Oxy_CSF_Mean_reps_cv30_resid',\n",
    "#Brain\n",
    "'DTI_MD_11_neg_MD', 'DTI_MD_10_neg_MD', 'DTI_MD_9_neg_MD', 'DTI_MD_8_neg_MD', 'DTI_MD_7_neg_MD', 'DTI_MD_6_neg_MD', 'DTI_MD_5_neg_MD', 'DTI_MD_4_neg_MD', 'DTI_MD_3_neg_MD', 'DTI_MD_2_neg_MD', 'DTI_MD_1_neg_MD', \n",
    "'DTI_AD_8_neg_AD', 'DTI_AD_7_neg_AD', 'DTI_AD_6_neg_AD', 'DTI_AD_5_neg_AD', 'DTI_AD_4_neg_AD', 'DTI_AD_3_neg_AD', 'DTI_AD_2_neg_AD','DTI_AD_1_neg_AD',\n",
    "'DTI_RD_9_neg_RD', 'DTI_RD_8_neg_RD', 'DTI_RD_7_neg_RD', 'DTI_RD_6_neg_RD', 'DTI_RD_5_neg_RD', 'DTI_RD_4_neg_RD', 'DTI_RD_3_neg_RD', 'DTI_RD_2_neg_RD','DTI_RD_1_neg_RD',\n",
    "]].dropna()\n",
    "\n",
    "# save group information for t-test\n",
    "grp = selected_nomom['NR']\n",
    "\n",
    "# zscore \n",
    "selected_nomom = selected_nomom.apply(zscore, axis=0)\n",
    "\n",
    "# drop NR variable. \n",
    "pca_data = selected_nomom.drop(columns='NR')\n",
    "# select only NR groups\n",
    "pca_data_NR = pca_data.loc[grp==1]\n",
    "# select only Controls groups\n",
    "pca_data_Con = pca_data.loc[grp==0]\n",
    "\n",
    "\n",
    "#pca_data = selected_nomom\n",
    "# print(pca_data.index.size)\n",
    "# print(selected_nomom.columns)\n",
    "# print(grp)\n",
    "# print(NR)\n",
    "# print(Con)\n",
    "#print(pca_data_NR.shape)"
   ]
  },
  {
   "cell_type": "code",
   "execution_count": 83,
   "metadata": {},
   "outputs": [
    {
     "name": "stdout",
     "output_type": "stream",
     "text": [
      "(48, 41) (24, 41) (24, 41)\n"
     ]
    }
   ],
   "source": [
    "print(pca_data.shape, pca_data_NR.shape, pca_data_Con.shape)"
   ]
  },
  {
   "cell_type": "code",
   "execution_count": 76,
   "metadata": {},
   "outputs": [],
   "source": [
    "# #Or run all data (different analysis)\n",
    "# #NOTE FIX FILL NA\n",
    "# pca_data_all = nomom.select_dtypes(include=['float', 'int'])\n",
    "# #Z-score all data\n",
    "# pca_data_all = pca_data_all.apply(zscore, axis=0).dropna(axis=1)\n",
    "\n",
    "\n",
    "# print(nomom.select_dtypes(include=['float', 'int']).shape, pca_data_all.shape)"
   ]
  },
  {
   "cell_type": "code",
   "execution_count": 77,
   "metadata": {},
   "outputs": [],
   "source": [
    "#specifying components\n",
    "#Currently none pre-specified\n",
    "num_comp = None\n",
    "pca = decomposition.PCA(n_components=num_comp)"
   ]
  },
  {
   "cell_type": "code",
   "execution_count": 91,
   "metadata": {},
   "outputs": [],
   "source": [
    "##Run PCA on all data\n",
    "# pc = pca.fit_transform(pca_data_all)\n",
    "\n",
    "## Run PCA on NR data\n",
    "# pc = pca.fit_transform(pca_data_NR)\n",
    "\n",
    "## Run PCA on Con data\n",
    "pc = pca.fit_transform(pca_data_Con)"
   ]
  },
  {
   "cell_type": "code",
   "execution_count": 92,
   "metadata": {},
   "outputs": [],
   "source": [
    "# pc_df = pd.DataFrame(data = pc , \n",
    "#         columns = ['PC1', 'PC2','PC3','PC4'])\n",
    "# pc_df['Cluster'] = Y1\n",
    "# pc_df.head()"
   ]
  },
  {
   "cell_type": "code",
   "execution_count": 93,
   "metadata": {},
   "outputs": [
    {
     "data": {
      "text/plain": [
       "array([3.38257698e-01, 1.21668560e-01, 1.07418661e-01, 8.81805377e-02,\n",
       "       7.46358748e-02, 5.37982780e-02, 5.22698193e-02, 3.25250351e-02,\n",
       "       3.03645601e-02, 2.44345287e-02, 1.57763283e-02, 1.47172050e-02,\n",
       "       1.34832504e-02, 7.84269111e-03, 7.16990967e-03, 5.30065472e-03,\n",
       "       4.46537439e-03, 2.39258228e-03, 2.04390683e-03, 1.18771137e-03,\n",
       "       1.12765537e-03, 7.11827421e-04, 2.27350448e-04, 2.45716992e-33])"
      ]
     },
     "execution_count": 93,
     "metadata": {},
     "output_type": "execute_result"
    }
   ],
   "source": [
    "pca.explained_variance_ratio_\n"
   ]
  },
  {
   "cell_type": "code",
   "execution_count": 94,
   "metadata": {},
   "outputs": [
    {
     "name": "stdout",
     "output_type": "stream",
     "text": [
      "(48, 24) (48, 41)\n"
     ]
    }
   ],
   "source": [
    "# get projection of all-data, when fit on NR... \n",
    "pc_all = pca.transform(pca_data) #### SPECIFIC TO ALL VARS\n",
    "print(pc_all.shape, pca_data.shape)"
   ]
  },
  {
   "cell_type": "code",
   "execution_count": 95,
   "metadata": {},
   "outputs": [],
   "source": [
    "# plt.plot(range(0, len(pca.explained_variance_ratio_)), pca.explained_variance_ratio_ )\n",
    "# plt.xlabel('Principal Component')\n",
    "# plt.ylabel('Variance Explained')\n",
    "# plt.title('Total Variance Explained: '+str(np.sum(pca.explained_variance_ratio_)))\n",
    "\n",
    "# # plt.savefig('../FIGS/NOMOM_PCA_scree_fitNR.pdf', dpi=300, bbox_inches='tight', transparent=True)\n",
    "# plt.savefig('../FIGS/NOMOM_PCA_scree_fitCon.pdf', dpi=300, bbox_inches='tight', transparent=True)\n",
    "# # plt.savefig('../FIGS/NOMOM_PCA_scree_fitALL.pdf', dpi=300, bbox_inches='tight', transparent=True)"
   ]
  },
  {
   "cell_type": "code",
   "execution_count": 96,
   "metadata": {},
   "outputs": [
    {
     "data": {
      "image/png": "[encoded data removed]",
      "text/plain": [
       "<Figure size 432x288 with 1 Axes>"
      ]
     },
     "metadata": {
      "needs_background": "light"
     },
     "output_type": "display_data"
    }
   ],
   "source": [
    "plt.plot(range(0, len(pca.explained_variance_ratio_)), pca.explained_variance_ratio_ )\n",
    "plt.ylim([0, 0.4])\n",
    "plt.xlabel('Principal Component')\n",
    "plt.ylabel('Variance Explained')\n",
    "plt.title('Total Variance Explained: '+str(np.sum(pca.explained_variance_ratio_)))\n",
    "\n",
    "# plt.savefig('../FIGS/NOMOM_PCA_scree_fitNR.pdf', dpi=300, bbox_inches='tight', transparent=True)\n",
    "plt.savefig('../FIGS/NOMOM_PCA_scree_fitCon.pdf', dpi=300, bbox_inches='tight', transparent=True)\n",
    "# plt.savefig('../FIGS/NOMOM_PCA_scree_fitALL.pdf', dpi=300, bbox_inches='tight', transparent=True)"
   ]
  },
  {
   "cell_type": "code",
   "execution_count": 116,
   "metadata": {},
   "outputs": [],
   "source": [
    "# df = pd.DataFrame({'var':pca.explained_variance_ratio_,\n",
    "#              'PC':['PC1','PC2','PC3','PC4']})\n",
    "# sns.barplot(x='PC',y=\"var\", \n",
    "#            data=df, color=\"c\");"
   ]
  },
  {
   "cell_type": "code",
   "execution_count": 71,
   "metadata": {},
   "outputs": [],
   "source": [
    "# sns.lmplot( x=\"PC1\", y=\"PC2\",\n",
    "#   data=pc_df, \n",
    "#   fit_reg=False, \n",
    "#   hue='Cluster', # color by cluster\n",
    "#   legend=True,\n",
    "#   scatter_kws={\"s\": 80}) # specify the point size"
   ]
  },
  {
   "cell_type": "code",
   "execution_count": 64,
   "metadata": {},
   "outputs": [],
   "source": [
    "# #Output all principle components\n",
    "# plt.plot(pc[:,0], pc[:,1], 'or')\n",
    "# plt.xlabel('PC1')\n",
    "# plt.ylabel('PC2')\n",
    "# print(selected_nomom)"
   ]
  },
  {
   "cell_type": "code",
   "execution_count": 97,
   "metadata": {},
   "outputs": [
    {
     "name": "stdout",
     "output_type": "stream",
     "text": [
      "(24, 24)\n"
     ]
    }
   ],
   "source": [
    "# ttest on each PC...\n",
    "\n",
    "print(pc.shape)\n",
    "PC_t_list = []\n",
    "PC_p_list = []\n",
    "\n",
    "for component_number in range(pc.shape[1]):\n",
    "#     print(component_number)\n",
    "#     target_pc = pc[:,component_number]\n",
    "    # do t-test of group on target_pc\n",
    "    X = selected_nomom['NR'] ### FOR NOT ALL VARS... \n",
    "#     X = nomom['NR'] #### SPECIFIC TO ALL VARS\n",
    "    Y = pc_all[:,component_number]\n",
    "    X = sm.add_constant(X)\n",
    "#     print(X.shape, Y.shape)\n",
    "    results = sm.OLS(Y,X).fit()\n",
    "    # this_t = ... \n",
    "    PC_t_list.append(results.tvalues[1])\n",
    "    PC_p_list.append(results.pvalues[1])    \n"
   ]
  },
  {
   "cell_type": "code",
   "execution_count": 120,
   "metadata": {},
   "outputs": [],
   "source": [
    "# plt.plot(range(0, len(PC_t_list)), PC_t_list, \"or\")\n",
    "# plt.xlabel('Principle Component')\n",
    "# plt.ylabel('Group t-value')\n",
    "\n",
    "# critical_t = stats.t.ppf(1-0.025, 48)\n",
    "\n",
    "# plt.plot(plt.xlim(),(critical_t, critical_t), '--k')\n"
   ]
  },
  {
   "cell_type": "code",
   "execution_count": 98,
   "metadata": {},
   "outputs": [
    {
     "name": "stdout",
     "output_type": "stream",
     "text": [
      "[2.9050410543734203e-08, 0.8799849400247842, 0.9815089914248577, 0.003943845418567931, 0.8586878535281988, 0.2413409996501394, 0.0883761092190333, 0.18496259023180842, 0.0004959581523958436, 0.6475555836677837, 0.02770833427980377, 0.004236200303686935, 0.14155327915051624, 0.0021136054353127257, 0.01719933607654465, 0.07389685262191391, 0.0005875784674497403, 0.0004351101215810466, 0.6620962240038255, 0.006835177614878031, 0.2679745844057115, 0.0069673403974558415, 1.1358390041453442e-07, 0.048329987510023736]\n"
     ]
    },
    {
     "data": {
      "image/png": "[encoded data removed]",
      "text/plain": [
       "<Figure size 432x288 with 1 Axes>"
      ]
     },
     "metadata": {
      "needs_background": "light"
     },
     "output_type": "display_data"
    }
   ],
   "source": [
    "print(PC_p_list)\n",
    "plt.plot(range(0, len(PC_p_list)), -1*np.log10(PC_p_list), \"or\")\n",
    "plt.ylim([-0.5, 10])\n",
    "plt.xlabel('Principle Component')\n",
    "plt.ylabel('Group -log(p-value)')\n",
    "\n",
    "critical_t = stats.t.ppf(1-0.025, 48)\n",
    "critical_p = -1*np.log10(.05)\n",
    "\n",
    "plt.plot(plt.xlim(),(critical_p, critical_p), '--k')\n",
    "\n",
    "# plt.savefig('../FIGS/NOMOM_PCA_t-test_fitNR.pdf', dpi=300, bbox_inches='tight', transparent=True)\n",
    "plt.savefig('../FIGS/NOMOM_PCA_t-test_fitCon.pdf', dpi=300, bbox_inches='tight', transparent=True)\n",
    "# plt.savefig('../FIGS/NOMOM_PCA_t-test_fitALL.pdf', dpi=300, bbox_inches='tight', transparent=True)"
   ]
  },
  {
   "cell_type": "code",
   "execution_count": 124,
   "metadata": {},
   "outputs": [],
   "source": [
    "# loadings = pd.DataFrame(pca.components_.T, index=pca_data.columns) #### NORMAL. \n",
    "loadings = pd.DataFrame(pca.components_.T, index=pca_data_all.columns) ### SPECIFIC TO ALL\n",
    "# loadings.to_csv('NOMOM_PCA_loadings_fitNR.csv')\n",
    "# loadings.to_csv('NOMOM_PCA_loadings_fitCon.csv')\n",
    "loadings.to_csv('NOMOM_PCA_loadings_fitALL.csv')\n",
    "\n",
    "# pca.components_"
   ]
  },
  {
   "cell_type": "markdown",
   "metadata": {},
   "source": [
    "# Mediation of every brain var on every behavior\n",
    "\n",
    "1: Run on single variable \n",
    "\n",
    "2: Loop over single variables\n"
   ]
  },
  {
   "cell_type": "code",
   "execution_count": 10,
   "metadata": {},
   "outputs": [],
   "source": [
    "import statsmodels.api as sm\n",
    "import statsmodels.genmod.families.links as links\n",
    "from statsmodels.stats.mediation import Mediation\n",
    "\n",
    "import pingouin as pg"
   ]
  },
  {
   "cell_type": "code",
   "execution_count": 69,
   "metadata": {},
   "outputs": [
    {
     "data": {
      "text/html": [
       "<div>\n",
       "<style scoped>\n",
       "    .dataframe tbody tr th:only-of-type {\n",
       "        vertical-align: middle;\n",
       "    }\n",
       "\n",
       "    .dataframe tbody tr th {\n",
       "        vertical-align: top;\n",
       "    }\n",
       "\n",
       "    .dataframe thead th {\n",
       "        text-align: right;\n",
       "    }\n",
       "</style>\n",
       "<table border=\"1\" class=\"dataframe\">\n",
       "  <thead>\n",
       "    <tr style=\"text-align: right;\">\n",
       "      <th></th>\n",
       "      <th>path</th>\n",
       "      <th>coef</th>\n",
       "      <th>se</th>\n",
       "      <th>pval</th>\n",
       "      <th>CI[2.5%]</th>\n",
       "      <th>CI[97.5%]</th>\n",
       "      <th>sig</th>\n",
       "    </tr>\n",
       "  </thead>\n",
       "  <tbody>\n",
       "    <tr>\n",
       "      <th>0</th>\n",
       "      <td>petPos_2_insula ~ X</td>\n",
       "      <td>-0.113072</td>\n",
       "      <td>0.028299</td>\n",
       "      <td>0.000221</td>\n",
       "      <td>-0.169970</td>\n",
       "      <td>-0.056174</td>\n",
       "      <td>Yes</td>\n",
       "    </tr>\n",
       "    <tr>\n",
       "      <th>1</th>\n",
       "      <td>Y ~ petPos_2_insula</td>\n",
       "      <td>5.622808</td>\n",
       "      <td>2.003874</td>\n",
       "      <td>0.007225</td>\n",
       "      <td>1.593749</td>\n",
       "      <td>9.651867</td>\n",
       "      <td>Yes</td>\n",
       "    </tr>\n",
       "    <tr>\n",
       "      <th>2</th>\n",
       "      <td>Total</td>\n",
       "      <td>-1.000103</td>\n",
       "      <td>0.467542</td>\n",
       "      <td>0.037545</td>\n",
       "      <td>-1.940158</td>\n",
       "      <td>-0.060047</td>\n",
       "      <td>Yes</td>\n",
       "    </tr>\n",
       "    <tr>\n",
       "      <th>3</th>\n",
       "      <td>Direct</td>\n",
       "      <td>-0.485497</td>\n",
       "      <td>0.524333</td>\n",
       "      <td>0.359212</td>\n",
       "      <td>-1.540319</td>\n",
       "      <td>0.569326</td>\n",
       "      <td>No</td>\n",
       "    </tr>\n",
       "    <tr>\n",
       "      <th>4</th>\n",
       "      <td>Indirect</td>\n",
       "      <td>-0.514606</td>\n",
       "      <td>0.280609</td>\n",
       "      <td>0.012000</td>\n",
       "      <td>-1.172758</td>\n",
       "      <td>-0.080455</td>\n",
       "      <td>Yes</td>\n",
       "    </tr>\n",
       "  </tbody>\n",
       "</table>\n",
       "</div>"
      ],
      "text/plain": [
       "                  path      coef        se      pval  CI[2.5%]  CI[97.5%]  sig\n",
       "0  petPos_2_insula ~ X -0.113072  0.028299  0.000221 -0.169970  -0.056174  Yes\n",
       "1  Y ~ petPos_2_insula  5.622808  2.003874  0.007225  1.593749   9.651867  Yes\n",
       "2                Total -1.000103  0.467542  0.037545 -1.940158  -0.060047  Yes\n",
       "3               Direct -0.485497  0.524333  0.359212 -1.540319   0.569326   No\n",
       "4             Indirect -0.514606  0.280609  0.012000 -1.172758  -0.080455  Yes"
      ]
     },
     "execution_count": 69,
     "metadata": {},
     "output_type": "execute_result"
    }
   ],
   "source": [
    "Y = 'FF_NECall_pet_trans' #cong_mes\n",
    "X = 'NR'#emo\n",
    "M = 'petPos_2_insula'#treat\n",
    "\n",
    "mediation_data = nomom[[X,Y,M]].dropna()\n",
    "\n",
    "# code to do mediation\n",
    "\n",
    "# USING STATSMODELS\n",
    "# probit = links.probit\n",
    "# outcome_model = sm.GLM.from_formula(Y+\" ~ \"+X+\" + \"+ M,\n",
    "#                                      mediation_data, family=sm.families.Binomial(link=probit()))\n",
    "# mediator_model = sm.OLS.from_formula(X+\" ~ \"+M, mediation_data)\n",
    "# med = Mediation(outcome_model, mediator_model, M, X).fit()\n",
    "# med.summary()\n",
    "\n",
    "# USING PINGOUIN\n",
    "pg.mediation_analysis(data=mediation_data, x=X, m=M, y=Y, covar=None, alpha=0.05, n_boot=500, seed=None, return_dist=False)\n",
    "\n"
   ]
  },
  {
   "cell_type": "code",
   "execution_count": 19,
   "metadata": {},
   "outputs": [],
   "source": [
    "# df = nomom\n",
    "# Y = 'SD_Aall_hip_trans' #(control)\n",
    "# X = 'NR'\n",
    "# M = 'DTI_AD_1_neg_AD'\n",
    "# ##1. direct effect: X --> Y\n",
    "# DV_LF = df.SD_Aall_hip_trans\n",
    "# IV_X = sm.add_constant(df[['NR', 'SD_Aall_hip_trans']])\n",
    "# fe_mod_X = PanelOLS(DV_LF, IV_X, entity_effects=True )\n",
    "# fe_res_X = fe_mod_X.fit(cov_type='clustered', cluster_entity=True)\n",
    "# print(fe_res_X)\n",
    "\n",
    "# ##2. X --> M\n",
    "# DV_A = df.M\n",
    "# IV_A = sm.add_constant(df[['NR', 'SD_Aall_hip_trans']])\n",
    "# fe_mod_A = PanelOLS(DV_A, IV_A, entity_effects=True )\n",
    "# fe_res_A = fe_mod_A.fit(cov_type='clustered', cluster_entity=True)\n",
    "# print(fe_res_A)\n",
    "\n",
    "# ##3. M --> Y\n",
    "# IV_M = sm.add_constant(df[['DTI_AD_1_neg_AD', 'SD_Aall_hip_trans']])\n",
    "# fe_mod_M = PanelOLS(DV_LF, IV_M, entity_effects=True )\n",
    "# fe_res_M = fe_mod_M.fit(cov_type='clustered', cluster_entity=True)\n",
    "# print(fe_res_M)\n",
    "\n",
    "# ##4. X, M --> Y\n",
    "# IV_T = sm.add_constant(df[['NR', 'DTI_AD_1_neg_AD', 'SD_Aall_hip_trans']])\n",
    "# fe_mod_T = PanelOLS(DV_LF, IV_T, entity_effects=True )\n",
    "# fe_res_T = fe_mod_T.fit(cov_type='clustered', cluster_entity=True)\n",
    "# print(fe_res_T)\n",
    "\n",
    "# med = Mediation(fe_res_T, fe_res_A, 'NR', 'DTI_AD_1_neg_AD').fit()\n",
    "# med.summary()"
   ]
  },
  {
   "cell_type": "code",
   "execution_count": 32,
   "metadata": {},
   "outputs": [],
   "source": [
    "# !pip install pingouin"
   ]
  },
  {
   "cell_type": "code",
   "execution_count": 30,
   "metadata": {},
   "outputs": [],
   "source": []
  },
  {
   "cell_type": "code",
   "execution_count": 33,
   "metadata": {},
   "outputs": [
    {
     "data": {
      "text/html": [
       "<div>\n",
       "<style scoped>\n",
       "    .dataframe tbody tr th:only-of-type {\n",
       "        vertical-align: middle;\n",
       "    }\n",
       "\n",
       "    .dataframe tbody tr th {\n",
       "        vertical-align: top;\n",
       "    }\n",
       "\n",
       "    .dataframe thead th {\n",
       "        text-align: right;\n",
       "    }\n",
       "</style>\n",
       "<table border=\"1\" class=\"dataframe\">\n",
       "  <thead>\n",
       "    <tr style=\"text-align: right;\">\n",
       "      <th></th>\n",
       "      <th>path</th>\n",
       "      <th>coef</th>\n",
       "      <th>se</th>\n",
       "      <th>pval</th>\n",
       "      <th>CI[2.5%]</th>\n",
       "      <th>CI[97.5%]</th>\n",
       "      <th>sig</th>\n",
       "    </tr>\n",
       "  </thead>\n",
       "  <tbody>\n",
       "    <tr>\n",
       "      <th>0</th>\n",
       "      <td>petPos_2_insula ~ X</td>\n",
       "      <td>-0.113072</td>\n",
       "      <td>0.028299</td>\n",
       "      <td>0.000221</td>\n",
       "      <td>-0.169970</td>\n",
       "      <td>-0.056174</td>\n",
       "      <td>Yes</td>\n",
       "    </tr>\n",
       "    <tr>\n",
       "      <th>1</th>\n",
       "      <td>Y ~ petPos_2_insula</td>\n",
       "      <td>5.622808</td>\n",
       "      <td>2.003874</td>\n",
       "      <td>0.007225</td>\n",
       "      <td>1.593749</td>\n",
       "      <td>9.651867</td>\n",
       "      <td>Yes</td>\n",
       "    </tr>\n",
       "    <tr>\n",
       "      <th>2</th>\n",
       "      <td>Total</td>\n",
       "      <td>-1.000103</td>\n",
       "      <td>0.467542</td>\n",
       "      <td>0.037545</td>\n",
       "      <td>-1.940158</td>\n",
       "      <td>-0.060047</td>\n",
       "      <td>Yes</td>\n",
       "    </tr>\n",
       "    <tr>\n",
       "      <th>3</th>\n",
       "      <td>Direct</td>\n",
       "      <td>-0.485497</td>\n",
       "      <td>0.524333</td>\n",
       "      <td>0.359212</td>\n",
       "      <td>-1.540319</td>\n",
       "      <td>0.569326</td>\n",
       "      <td>No</td>\n",
       "    </tr>\n",
       "    <tr>\n",
       "      <th>4</th>\n",
       "      <td>Indirect</td>\n",
       "      <td>-0.514606</td>\n",
       "      <td>0.292423</td>\n",
       "      <td>0.008000</td>\n",
       "      <td>-1.270032</td>\n",
       "      <td>-0.112313</td>\n",
       "      <td>Yes</td>\n",
       "    </tr>\n",
       "  </tbody>\n",
       "</table>\n",
       "</div>"
      ],
      "text/plain": [
       "                  path      coef        se      pval  CI[2.5%]  CI[97.5%]  sig\n",
       "0  petPos_2_insula ~ X -0.113072  0.028299  0.000221 -0.169970  -0.056174  Yes\n",
       "1  Y ~ petPos_2_insula  5.622808  2.003874  0.007225  1.593749   9.651867  Yes\n",
       "2                Total -1.000103  0.467542  0.037545 -1.940158  -0.060047  Yes\n",
       "3               Direct -0.485497  0.524333  0.359212 -1.540319   0.569326   No\n",
       "4             Indirect -0.514606  0.292423  0.008000 -1.270032  -0.112313  Yes"
      ]
     },
     "execution_count": 33,
     "metadata": {},
     "output_type": "execute_result"
    }
   ],
   "source": [
    "pg.mediation_analysis(data=mediation_data, x=X, m=M, y=Y, covar=None, alpha=0.05, n_boot=500, seed=None, return_dist=False)\n",
    "\n",
    "\n"
   ]
  },
  {
   "cell_type": "code",
   "execution_count": null,
   "metadata": {},
   "outputs": [],
   "source": []
  },
  {
   "cell_type": "code",
   "execution_count": 71,
   "metadata": {},
   "outputs": [
    {
     "data": {
      "text/plain": [
       "<seaborn.axisgrid.FacetGrid at 0x7fc4e7938e80>"
      ]
     },
     "execution_count": 71,
     "metadata": {},
     "output_type": "execute_result"
    },
    {
     "data": {
      "image/png": "[encoded data removed]",
      "text/plain": [
       "<Figure size 419.85x360 with 1 Axes>"
      ]
     },
     "metadata": {},
     "output_type": "display_data"
    }
   ],
   "source": [
    "######\n",
    "#GRAPHS OF RELATIONS\n",
    "#Graph resuls\n",
    "#Plot sign correlations\n",
    "sns.set(rc={'axes.facecolor':'white', 'figure.facecolor':'white'})\n",
    "sns.color_palette(\"Blues\")\n",
    "#sns.set_context(\"poster\")\n",
    "\n",
    "# 'EN_NECall_pet_trans','EN_Aall_hip_trans','EN_STall_hip_trans',\n",
    "# 'EO_NECall_pet_trans','EO_NECall_hip_trans',\n",
    "# 'FF_NECall_pet_trans','FF_Aall_hip_trans',\n",
    "# 'SD_NECall_pet_trans','SD_Aall_hip_trans','SD_NECall_hip_trans','SD_STall_hip_trans',\n",
    "# 'LO_Aall_hip_trans',\n",
    "# 'O_CSF_res',\n",
    "# 'jacPos_1_dlpfc', 'jacPos_2_amygWhiteL', 'jacPos_3_amygWhiteR', 'jacNeg_1_temporal', 'jacNeg_2_area10', 'jacNeg_3_ofc',\n",
    "# 'IC_av_ad',\n",
    "# 'rs_fMRI_bilateral_1_neg_bilateral', 'rs_fMRI_bilateral_1_pos_bilateral', 'rs_fMRI_bilateral_2_neg_bilateral', 'rs_fMRI_bilateral_2_pos_bilateral', 'rs_fMRI_bilateral_3_neg_bilateral', 'rs_fMRI_bilateral_4_neg_bilateral', 'rs_fMRI_bilateral_5_neg_bilateral', 'rs_fMRI_bilateral_6_neg_bilateral', 'rs_fMRI_bilateral_7_neg_bilateral',\n",
    "# 'DTI_AD_1_neg_AD', 'DTI_AD_2_neg_AD', 'DTI_AD_3_neg_AD', 'DTI_AD_4_neg_AD', 'DTI_AD_5_neg_AD', 'DTI_AD_6_neg_AD', 'DTI_AD_7_neg_AD', 'DTI_AD_8_neg_AD', 'DTI_MD_10_neg_MD', 'DTI_MD_11_neg_MD', 'DTI_MD_1_neg_MD', 'DTI_MD_2_neg_MD', 'DTI_MD_3_neg_MD', 'DTI_MD_4_neg_MD', 'DTI_MD_5_neg_MD', 'DTI_MD_6_neg_MD', 'DTI_MD_7_neg_MD', 'DTI_MD_8_neg_MD', 'DTI_MD_9_neg_MD', 'DTI_RD_1_neg_RD', 'DTI_RD_2_neg_RD', 'DTI_RD_3_neg_RD', 'DTI_RD_4_neg_RD', 'DTI_RD_5_neg_RD', 'DTI_RD_6_neg_RD', 'DTI_RD_7_neg_RD', 'DTI_RD_8_neg_RD', 'DTI_RD_9_neg_RD', \n",
    "# 'petPos_1_nearInsula', 'petPos_2_insula', 'petNeg_1_parietal',\n",
    "# 'rs_fMRI_postCing_1_neg_postCing', 'rs_fMRI_postCing_1_pos_postCing', 'rs_fMRI_postCing_2_neg_postCing', 'rs_fMRI_postCing_2_pos_postCing', 'rs_fMRI_postCing_3_neg_postCing', 'rs_fMRI_postCing_4_neg_postCing', 'rs_fMRI_postCing_5_neg_postCing', 'rs_fMRI_postCing_6_neg_postCing', 'rs_fMRI_postCing_7_neg_postCing', 'rs_fMRI_postCing_8_neg_postCing',\n",
    "\n",
    "\n",
    "\n",
    "\n",
    "hue='Group'\n",
    "data=nomom\n",
    "y='FF_NECall_pet_trans'\n",
    "x='rs_fMRI_postCing_2_pos_postCing'\n",
    "sns.lmplot(x=x, y=y, data=data, hue=hue, palette=\"Blues\", legend=\"False\")\n",
    "# plt.ylabel(\"Self Directed (Alone HIP)\")\n",
    "# plt.xlabel(\"Internal Capsule Cluster (AD)\")\n",
    "\n",
    "# hue='Group'\n",
    "# data=nomom\n",
    "# y='SD_Aall_hip_trans'\n",
    "# x='DTI_MD_11_neg_MD'\n",
    "# sns.lmplot(x=x, y=y, data=data, hue=hue, palette=\"Blues\", legend=\"False\")\n",
    "# plt.ylabel(\"Self Directed (Alone HIP)\")\n",
    "# plt.xlabel(\"Internal Capsule Cluster (MD)\")\n",
    "\n",
    "\n",
    "# y='X_Days_Group_without_mom_Birth_to_PET_final'\n",
    "# x='DTI_MD_11_neg_MD'\n",
    "# sns.lmplot(x=x, y=y, data=data, hue=hue, palette=\"Blues\", legend=\"False\")\n",
    "# # sns.lmplot(x=x, y=y, data=data, palette=\"Blues\", legend=\"False\")\n",
    "# plt.ylabel(\"# of days in group without mom\")\n",
    "# plt.xlabel(\"Internal Capsule Cluster (MD)\")\n",
    "\n",
    "# y='SD_Aall_hip_trans'\n",
    "# x='DTI_RD_7_neg_RD'\n",
    "# sns.lmplot(x=x, y=y, data=data, hue=hue, palette=\"Blues\", legend=\"False\")\n",
    "# # sns.lmplot(x=x, y=y, data=data, palette=\"Blues\", legend=\"False\")\n",
    "# plt.ylabel(\"Self Directed (Alone HIP)\")\n",
    "# plt.xlabel(\"Internal Capsule cluster (RD)\")"
   ]
  },
  {
   "cell_type": "code",
   "execution_count": null,
   "metadata": {},
   "outputs": [],
   "source": []
  }
 ],
 "metadata": {
  "kernelspec": {
   "display_name": "Python 3",
   "language": "python",
   "name": "python3"
  },
  "language_info": {
   "codemirror_mode": {
    "name": "ipython",
    "version": 3
   },
   "file_extension": ".py",
   "mimetype": "text/x-python",
   "name": "python",
   "nbconvert_exporter": "python",
   "pygments_lexer": "ipython3",
   "version": "3.8.5"
  }
 },
 "nbformat": 4,
 "nbformat_minor": 4
}
