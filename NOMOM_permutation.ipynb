{
 "cells": [
  {
   "cell_type": "code",
   "execution_count": 1,
   "metadata": {},
   "outputs": [],
   "source": [
    "import numpy as np\n",
    "import nibabel as nib\n",
    "import matplotlib.pyplot as plt\n",
    "import seaborn as sns\n",
    "import pandas as pd\n",
    "import statsmodels.api as sm\n",
    "import statsmodels.formula.api as smf\n",
    "import matplotlib as mpl\n",
    "import itertools\n",
    "import re\n",
    "# from ggplot import *\n",
    "from scipy import stats\n",
    "from scipy.stats import pearsonr\n",
    "\n",
    "from sklearn import datasets\n",
    "import scipy.stats as stats\n",
    "import matplotlib.pyplot as plt\n",
    "import random\n",
    "import copy\n",
    "\n",
    "plt.rcParams['pdf.fonttype'] = 42\n",
    "plt.rcParams['ps.fonttype'] = 42\n",
    "%matplotlib inline"
   ]
  },
  {
   "cell_type": "code",
   "execution_count": 2,
   "metadata": {},
   "outputs": [],
   "source": [
    "# data_vals = my_data.values.flatten()\n",
    "\n",
    "# num_iterations=2\n",
    "# print(data_vals.shape)\n",
    "\n",
    "# print(fake_data.shape)\n",
    "\n",
    "# mask_vals = get_flat_tril( my_mask )\n",
    "# mask_vals.sum()\n",
    "# np.random.choice(data_vals.flatten(), (num_iterations, mask_vals.sum()), replace=True)\n",
    "\n",
    "#drew testing code to select lower diagonal data and flatten it\n",
    "# lower_tri_values = np.tri(10,k=-1)\n",
    "# print(lower_tri_values.shape)\n",
    "# print(type(lower_tri_values))\n",
    "# print(lower_tri_values.flatten().shape)"
   ]
  },
  {
   "cell_type": "code",
   "execution_count": 3,
   "metadata": {},
   "outputs": [],
   "source": [
    "#---------------------------------------------------------------------------------------------------------------------\n",
    "#---------------------------------------------------------------------------------------------------------------------\n",
    "##Load csv file\n",
    "##Freshest final latest last newest load loads\n",
    "\n",
    "\n",
    "df_con = pd.read_csv('/Users/DOT/~Kalin-Lab~/ConteCenter/NOMOM/STATS/NOMOM_corr_matrix_con_z.csv', index_col=0, header=0)\n",
    "df_nm = pd.read_csv('/Users/DOT/~Kalin-Lab~/ConteCenter/NOMOM/STATS/NOMOM_corr_matrix_nr_z.csv', index_col=0, header=0)\n",
    "df_diff = df_nm - df_con\n",
    "df_diff.to_csv('/Users/DOT/~Kalin-Lab~/ConteCenter/NOMOM/STATS/NOMOM_corr_matrix_diff.csv')\n",
    "\n",
    "\n",
    "\n",
    "#add matrix with inclusion info\n",
    "brain_brain_matrix = pd.read_csv('/Users/DOT/~Kalin-Lab~/ConteCenter/NOMOM/STATS/NOMOM_matrix_brain-brain.csv', index_col=0, header=0)\n",
    "endo_brain_matrix = pd.read_csv('/Users/DOT/~Kalin-Lab~/ConteCenter/NOMOM/STATS/NOMOM_matrix_endo-brain.csv', index_col=0, header=0)\n",
    "beh_beh_matrix = pd.read_csv('/Users/DOT/~Kalin-Lab~/ConteCenter/NOMOM/STATS/NOMOM_matrix_beh-beh.csv', index_col=0, header=0)\n",
    "beh_endo_matrix = pd.read_csv('/Users/DOT/~Kalin-Lab~/ConteCenter/NOMOM/STATS/NOMOM_matrix_beh-endo.csv', index_col=0, header=0)\n",
    "beh_brain_matrix = pd.read_csv('/Users/DOT/~Kalin-Lab~/ConteCenter/NOMOM/STATS/NOMOM_matrix_beh-brain.csv', index_col=0, header=0)\n",
    "\n",
    "\n"
   ]
  },
  {
   "cell_type": "code",
   "execution_count": 4,
   "metadata": {
    "jupyter": {
     "source_hidden": true
    }
   },
   "outputs": [],
   "source": [
    "#Drew showing the effect of axis=0 or axis=1\n",
    "# x = np.arange(1,51).reshape(10,5)\n",
    "\n",
    "# y = np.arange(0,50).reshape(10,5)\n",
    "\n",
    "# print(x.shape)\n",
    "# print( x.mean().shape )\n",
    "# print( x.mean(axis=0).shape )\n",
    "# print( x.mean(axis=1).shape )\n",
    "\n",
    "# print(x.mean(axis=1), y.mean(axis=1))\n",
    "# print(x.mean(axis=1)-y.mean(axis=1))"
   ]
  },
  {
   "cell_type": "code",
   "execution_count": 5,
   "metadata": {},
   "outputs": [],
   "source": [
    "#Three functions that process the data as such:\n",
    "#An array with ones below the given diagonal (and not the diagonal: see k=-1) and zeros everywhere else\n",
    "#Flatten it by turning the matrix into a row of values\n",
    "def get_flat_tril( df ):\n",
    "    vals = df.values\n",
    "    lower_tri_values = np.tri(vals.shape[0],k=-1)\n",
    "#     plt.figure()\n",
    "#     plt.imshow(vals)\n",
    "#     plt.figure()\n",
    "#     plt.imshow(lower_tri_values)\n",
    "    return vals[lower_tri_values==1].flatten()\n",
    "\n",
    "#Grab values of dataframe only where vals =1 by running the function that makes a flat tril of the size that your matrix is in \n",
    "#Do this for both the csv with modality data mask and for all data\n",
    "#produce fake data from lower diagonal of data vals, grab number of items needed for this mask size\n",
    "def get_masked_data( df_to_mask, df_mask, num_fake_iterations=100 ):\n",
    "    mask_vals = get_flat_tril( df_mask )\n",
    "    data_vals = get_flat_tril( df_to_mask )\n",
    "    \n",
    "    masked_data = data_vals[ mask_vals == 1 ] \n",
    "    \n",
    "    print(data_vals.shape, mask_vals.shape, masked_data.shape, mask_vals.sum())\n",
    "    fake_data = np.random.choice(data_vals, (num_fake_iterations, mask_vals.sum()), replace=True)\n",
    "\n",
    "    return( masked_data, fake_data)\n",
    "\n",
    "#Run function to get masked data and get fake data, run this for two modality comparisons\n",
    "#calculate difference between modalities for real data, and array of fake data \n",
    "#calcualte p value\n",
    "def compute_category_diff_permutation( my_data, category_mask_one, category_mask_two, num_iterations=100):\n",
    "    data, fake_data = get_masked_data(my_data, category_mask_one, num_fake_iterations=1000)\n",
    "    data_category_two, fake_data_category_two = get_masked_data(my_data, category_mask_two, num_fake_iterations=1000)\n",
    "\n",
    "    print(data.shape, fake_data.shape)\n",
    "\n",
    "    # this is where you would compare two categories, i.e. two different masks. \n",
    "    actual_category_diff = data.mean() - data_category_two.mean()\n",
    "    fake_category_diffs = fake_data.mean(axis=1) - fake_data_category_two.mean(axis=1)\n",
    "\n",
    "    times_actual_greater_than_fake = np.sum(abs(fake_category_diffs) > abs(actual_category_diff))\n",
    "    total_nuber_of_fakes = len(fake_category_diffs)\n",
    "    p = times_actual_greater_than_fake / total_nuber_of_fakes\n",
    "    print( \"percent times actual diff > fake diff (p-val): \", p) \n",
    "\n",
    "    plt.figure()\n",
    "    print(fake_data.mean(axis=1).shape)\n",
    "    plt.hist(fake_category_diffs)\n",
    "    plt.axvline(x=actual_category_diff, ymin=0, ymax=1, color='r')\n",
    "    # plt.xlabel(\"Group\")\n",
    "    # plt.ylabel(\"Pair\")\n",
    "    # plt.savefig('../FIGS/NOMOM_scatter_Alone_Oxy_TillYear1.pdf', dpi=300, bbox_inches='tight', transparent=True)\n",
    "\n",
    "    return p\n",
    "\n"
   ]
  },
  {
   "cell_type": "code",
   "execution_count": 32,
   "metadata": {},
   "outputs": [
    {
     "name": "stdout",
     "output_type": "stream",
     "text": [
      "(820,) (820,) (66,) 66\n",
      "(820,) (820,) (12,) 12\n",
      "(66,) (1000, 66)\n",
      "percent times actual diff > fake diff (p-val):  0.015\n",
      "(1000,)\n",
      "p =  0.015\n"
     ]
    },
    {
     "data": {
      "image/png": "[encoded data removed]",
      "text/plain": [
       "<Figure size 432x288 with 1 Axes>"
      ]
     },
     "metadata": {
      "needs_background": "light"
     },
     "output_type": "display_data"
    }
   ],
   "source": [
    "#Select data\n",
    "##Freshest final latest last newest load loads\n",
    "my_data = pd.read_csv('/Users/DOT/~Kalin-Lab~/ConteCenter/NOMOM/STATS/NOMOM_corr_matrix_diff.csv', index_col=0, header=0)\n",
    "\n",
    "my_mask = pd.read_csv('/Users/DOT/~Kalin-Lab~/ConteCenter/NOMOM/STATS/NOMOM_matrix_beh-beh.csv', index_col=0, header=0)\n",
    "my_mask_category_two = pd.read_csv('/Users/DOT/~Kalin-Lab~/ConteCenter/NOMOM/STATS/NOMOM_matrix_beh-endo.csv', index_col=0, header=0)\n",
    "\n",
    "p = compute_category_diff_permutation( my_data, my_mask, my_mask_category_two, num_iterations=10000000)\n",
    "\n",
    "print(\"p = \", p)\n",
    "#print(x)"
   ]
  },
  {
   "cell_type": "code",
   "execution_count": 33,
   "metadata": {},
   "outputs": [
    {
     "name": "stdout",
     "output_type": "stream",
     "text": [
      "(820,) (820,) (66,) 66\n",
      "(820,) (820,) (336,) 336\n",
      "(66,) (1000, 66)\n",
      "percent times actual diff > fake diff (p-val):  0.166\n",
      "(1000,)\n",
      "p =  0.166\n"
     ]
    },
    {
     "data": {
      "image/png": "[encoded data removed]",
      "text/plain": [
       "<Figure size 432x288 with 1 Axes>"
      ]
     },
     "metadata": {
      "needs_background": "light"
     },
     "output_type": "display_data"
    }
   ],
   "source": [
    "#Select data\n",
    "##Freshest final latest last newest load loads\n",
    "my_data = pd.read_csv('/Users/DOT/~Kalin-Lab~/ConteCenter/NOMOM/STATS/NOMOM_corr_matrix_diff.csv', index_col=0, header=0)\n",
    "\n",
    "my_mask = pd.read_csv('/Users/DOT/~Kalin-Lab~/ConteCenter/NOMOM/STATS/NOMOM_matrix_beh-beh.csv', index_col=0, header=0)\n",
    "my_mask_category_two = pd.read_csv('/Users/DOT/~Kalin-Lab~/ConteCenter/NOMOM/STATS/NOMOM_matrix_beh-brain.csv', index_col=0, header=0)\n",
    "\n",
    "p = compute_category_diff_permutation( my_data, my_mask, my_mask_category_two, num_iterations=10000000)\n",
    "\n",
    "print(\"p = \", p)\n",
    "# print(x)"
   ]
  },
  {
   "cell_type": "code",
   "execution_count": 34,
   "metadata": {},
   "outputs": [
    {
     "name": "stdout",
     "output_type": "stream",
     "text": [
      "(820,) (820,) (66,) 66\n",
      "(820,) (820,) (28,) 28\n",
      "(66,) (1000, 66)\n",
      "percent times actual diff > fake diff (p-val):  0.332\n",
      "(1000,)\n",
      "p =  0.332\n"
     ]
    },
    {
     "data": {
      "image/png": "[encoded data removed]",
      "text/plain": [
       "<Figure size 432x288 with 1 Axes>"
      ]
     },
     "metadata": {
      "needs_background": "light"
     },
     "output_type": "display_data"
    }
   ],
   "source": [
    "#Select data\n",
    "##Freshest final latest last newest load loads\n",
    "my_data = pd.read_csv('/Users/DOT/~Kalin-Lab~/ConteCenter/NOMOM/STATS/NOMOM_corr_matrix_diff.csv', index_col=0, header=0)\n",
    "\n",
    "my_mask = pd.read_csv('/Users/DOT/~Kalin-Lab~/ConteCenter/NOMOM/STATS/NOMOM_matrix_beh-beh.csv', index_col=0, header=0)\n",
    "my_mask_category_two = pd.read_csv('/Users/DOT/~Kalin-Lab~/ConteCenter/NOMOM/STATS/NOMOM_matrix_endo-brain.csv', index_col=0, header=0)\n",
    "\n",
    "p = compute_category_diff_permutation( my_data, my_mask, my_mask_category_two, num_iterations=10000000)\n",
    "\n",
    "print(\"p = \", p)\n",
    "# print(x)"
   ]
  },
  {
   "cell_type": "code",
   "execution_count": 35,
   "metadata": {},
   "outputs": [
    {
     "name": "stdout",
     "output_type": "stream",
     "text": [
      "(820,) (820,) (66,) 66\n",
      "(820,) (820,) (378,) 378\n",
      "(66,) (1000, 66)\n",
      "percent times actual diff > fake diff (p-val):  0.0\n",
      "(1000,)\n",
      "p =  0.0\n"
     ]
    },
    {
     "data": {
      "image/png": "[encoded data removed]",
      "text/plain": [
       "<Figure size 432x288 with 1 Axes>"
      ]
     },
     "metadata": {
      "needs_background": "light"
     },
     "output_type": "display_data"
    }
   ],
   "source": [
    "#Select data\n",
    "##Freshest final latest last newest load loads\n",
    "my_data = pd.read_csv('/Users/DOT/~Kalin-Lab~/ConteCenter/NOMOM/STATS/NOMOM_corr_matrix_diff.csv', index_col=0, header=0)\n",
    "\n",
    "my_mask = pd.read_csv('/Users/DOT/~Kalin-Lab~/ConteCenter/NOMOM/STATS/NOMOM_matrix_beh-beh.csv', index_col=0, header=0)\n",
    "my_mask_category_two = pd.read_csv('/Users/DOT/~Kalin-Lab~/ConteCenter/NOMOM/STATS/NOMOM_matrix_brain-brain.csv', index_col=0, header=0)\n",
    "\n",
    "p = compute_category_diff_permutation( my_data, my_mask, my_mask_category_two, num_iterations=10000000)\n",
    "\n",
    "print(\"p = \", p)\n",
    "# print(x)"
   ]
  },
  {
   "cell_type": "code",
   "execution_count": 36,
   "metadata": {},
   "outputs": [
    {
     "name": "stdout",
     "output_type": "stream",
     "text": [
      "(820,) (820,) (12,) 12\n",
      "(820,) (820,) (336,) 336\n",
      "(12,) (1000, 12)\n",
      "percent times actual diff > fake diff (p-val):  0.002\n",
      "(1000,)\n",
      "p =  0.002\n"
     ]
    },
    {
     "data": {
      "image/png": "[encoded data removed]",
      "text/plain": [
       "<Figure size 432x288 with 1 Axes>"
      ]
     },
     "metadata": {
      "needs_background": "light"
     },
     "output_type": "display_data"
    }
   ],
   "source": [
    "#Select data\n",
    "##Freshest final latest last newest load loads\n",
    "my_data = pd.read_csv('/Users/DOT/~Kalin-Lab~/ConteCenter/NOMOM/STATS/NOMOM_corr_matrix_diff.csv', index_col=0, header=0)\n",
    "\n",
    "my_mask = pd.read_csv('/Users/DOT/~Kalin-Lab~/ConteCenter/NOMOM/STATS/NOMOM_matrix_beh-endo.csv', index_col=0, header=0)\n",
    "my_mask_category_two = pd.read_csv('/Users/DOT/~Kalin-Lab~/ConteCenter/NOMOM/STATS/NOMOM_matrix_beh-brain.csv', index_col=0, header=0)\n",
    "\n",
    "p = compute_category_diff_permutation( my_data, my_mask, my_mask_category_two, num_iterations=10000000)\n",
    "\n",
    "print(\"p = \", p)\n",
    "# print(x)"
   ]
  },
  {
   "cell_type": "code",
   "execution_count": 37,
   "metadata": {},
   "outputs": [
    {
     "name": "stdout",
     "output_type": "stream",
     "text": [
      "(820,) (820,) (12,) 12\n",
      "(820,) (820,) (28,) 28\n",
      "(12,) (1000, 12)\n",
      "percent times actual diff > fake diff (p-val):  0.004\n",
      "(1000,)\n",
      "p =  0.004\n"
     ]
    },
    {
     "data": {
      "image/png": "[encoded data removed]",
      "text/plain": [
       "<Figure size 432x288 with 1 Axes>"
      ]
     },
     "metadata": {
      "needs_background": "light"
     },
     "output_type": "display_data"
    }
   ],
   "source": [
    "#Select data\n",
    "##Freshest final latest last newest load loads\n",
    "my_data = pd.read_csv('/Users/DOT/~Kalin-Lab~/ConteCenter/NOMOM/STATS/NOMOM_corr_matrix_diff.csv', index_col=0, header=0)\n",
    "\n",
    "my_mask = pd.read_csv('/Users/DOT/~Kalin-Lab~/ConteCenter/NOMOM/STATS/NOMOM_matrix_beh-endo.csv', index_col=0, header=0)\n",
    "my_mask_category_two = pd.read_csv('/Users/DOT/~Kalin-Lab~/ConteCenter/NOMOM/STATS/NOMOM_matrix_endo-brain.csv', index_col=0, header=0)\n",
    "\n",
    "p = compute_category_diff_permutation( my_data, my_mask, my_mask_category_two, num_iterations=10000000)\n",
    "\n",
    "print(\"p = \", p)\n",
    "# print(x)"
   ]
  },
  {
   "cell_type": "code",
   "execution_count": 38,
   "metadata": {},
   "outputs": [
    {
     "name": "stdout",
     "output_type": "stream",
     "text": [
      "(820,) (820,) (12,) 12\n",
      "(820,) (820,) (378,) 378\n",
      "(12,) (1000, 12)\n",
      "percent times actual diff > fake diff (p-val):  0.947\n",
      "(1000,)\n",
      "p =  0.947\n"
     ]
    },
    {
     "data": {
      "image/png": "[encoded data removed]",
      "text/plain": [
       "<Figure size 432x288 with 1 Axes>"
      ]
     },
     "metadata": {
      "needs_background": "light"
     },
     "output_type": "display_data"
    }
   ],
   "source": [
    "#Select data\n",
    "##Freshest final latest last newest load loads\n",
    "my_data = pd.read_csv('/Users/DOT/~Kalin-Lab~/ConteCenter/NOMOM/STATS/NOMOM_corr_matrix_diff.csv', index_col=0, header=0)\n",
    "\n",
    "my_mask = pd.read_csv('/Users/DOT/~Kalin-Lab~/ConteCenter/NOMOM/STATS/NOMOM_matrix_beh-endo.csv', index_col=0, header=0)\n",
    "my_mask_category_two = pd.read_csv('/Users/DOT/~Kalin-Lab~/ConteCenter/NOMOM/STATS/NOMOM_matrix_brain-brain.csv', index_col=0, header=0)\n",
    "\n",
    "p = compute_category_diff_permutation( my_data, my_mask, my_mask_category_two, num_iterations=10000000)\n",
    "\n",
    "print(\"p = \", p)\n",
    "# print(x)"
   ]
  },
  {
   "cell_type": "code",
   "execution_count": 39,
   "metadata": {},
   "outputs": [
    {
     "name": "stdout",
     "output_type": "stream",
     "text": [
      "(820,) (820,) (336,) 336\n",
      "(820,) (820,) (28,) 28\n",
      "(336,) (1000, 336)\n",
      "percent times actual diff > fake diff (p-val):  0.843\n",
      "(1000,)\n",
      "p =  0.843\n"
     ]
    },
    {
     "data": {
      "image/png": "[encoded data removed]",
      "text/plain": [
       "<Figure size 432x288 with 1 Axes>"
      ]
     },
     "metadata": {
      "needs_background": "light"
     },
     "output_type": "display_data"
    }
   ],
   "source": [
    "#Select data\n",
    "##Freshest final latest last newest load loads\n",
    "my_data = pd.read_csv('/Users/DOT/~Kalin-Lab~/ConteCenter/NOMOM/STATS/NOMOM_corr_matrix_diff.csv', index_col=0, header=0)\n",
    "\n",
    "my_mask = pd.read_csv('/Users/DOT/~Kalin-Lab~/ConteCenter/NOMOM/STATS/NOMOM_matrix_beh-brain.csv', index_col=0, header=0)\n",
    "my_mask_category_two = pd.read_csv('/Users/DOT/~Kalin-Lab~/ConteCenter/NOMOM/STATS/NOMOM_matrix_endo-brain.csv', index_col=0, header=0)\n",
    "\n",
    "p = compute_category_diff_permutation( my_data, my_mask, my_mask_category_two, num_iterations=10000000)\n",
    "\n",
    "print(\"p = \", p)\n",
    "# print(x)"
   ]
  },
  {
   "cell_type": "code",
   "execution_count": 40,
   "metadata": {},
   "outputs": [
    {
     "name": "stdout",
     "output_type": "stream",
     "text": [
      "(820,) (820,) (336,) 336\n",
      "(820,) (820,) (378,) 378\n",
      "(336,) (1000, 336)\n",
      "percent times actual diff > fake diff (p-val):  0.0\n",
      "(1000,)\n",
      "p =  0.0\n"
     ]
    },
    {
     "data": {
      "image/png": "[encoded data removed]",
      "text/plain": [
       "<Figure size 432x288 with 1 Axes>"
      ]
     },
     "metadata": {
      "needs_background": "light"
     },
     "output_type": "display_data"
    }
   ],
   "source": [
    "#Select data\n",
    "##Freshest final latest last newest load loads\n",
    "my_data = pd.read_csv('/Users/DOT/~Kalin-Lab~/ConteCenter/NOMOM/STATS/NOMOM_corr_matrix_diff.csv', index_col=0, header=0)\n",
    "\n",
    "my_mask = pd.read_csv('/Users/DOT/~Kalin-Lab~/ConteCenter/NOMOM/STATS/NOMOM_matrix_beh-brain.csv', index_col=0, header=0)\n",
    "my_mask_category_two = pd.read_csv('/Users/DOT/~Kalin-Lab~/ConteCenter/NOMOM/STATS/NOMOM_matrix_brain-brain.csv', index_col=0, header=0)\n",
    "\n",
    "p = compute_category_diff_permutation( my_data, my_mask, my_mask_category_two, num_iterations=10000000)\n",
    "\n",
    "print(\"p = \", p)\n",
    "# print(x)"
   ]
  },
  {
   "cell_type": "code",
   "execution_count": 41,
   "metadata": {},
   "outputs": [
    {
     "name": "stdout",
     "output_type": "stream",
     "text": [
      "(820,) (820,) (28,) 28\n",
      "(820,) (820,) (378,) 378\n",
      "(28,) (1000, 28)\n",
      "percent times actual diff > fake diff (p-val):  0.0\n",
      "(1000,)\n",
      "p =  0.0\n"
     ]
    },
    {
     "data": {
      "image/png": "[encoded data removed]",
      "text/plain": [
       "<Figure size 432x288 with 1 Axes>"
      ]
     },
     "metadata": {
      "needs_background": "light"
     },
     "output_type": "display_data"
    }
   ],
   "source": [
    "#Select data\n",
    "##Freshest final latest last newest load loads\n",
    "my_data = pd.read_csv('/Users/DOT/~Kalin-Lab~/ConteCenter/NOMOM/STATS/NOMOM_corr_matrix_diff.csv', index_col=0, header=0)\n",
    "\n",
    "my_mask = pd.read_csv('/Users/DOT/~Kalin-Lab~/ConteCenter/NOMOM/STATS/NOMOM_matrix_endo-brain.csv', index_col=0, header=0)\n",
    "my_mask_category_two = pd.read_csv('/Users/DOT/~Kalin-Lab~/ConteCenter/NOMOM/STATS/NOMOM_matrix_brain-brain.csv', index_col=0, header=0)\n",
    "\n",
    "p = compute_category_diff_permutation( my_data, my_mask, my_mask_category_two, num_iterations=10000000)\n",
    "\n",
    "print(\"p = \", p)\n",
    "# print(x)"
   ]
  },
  {
   "cell_type": "code",
   "execution_count": 305,
   "metadata": {},
   "outputs": [],
   "source": [
    "#---------------------------------------------------------------------------------------------------------------------\n",
    "#---------------------------------------------------------------------------------------------------------------------\n",
    "##Load csv file\n",
    "\n",
    "\n",
    "# nomom = pd.read_csv('NOMOM_ALL_data_python.csv', index_col=0, na_values=['NA'])\n",
    "\n",
    "# Con=nomom.loc[(nomom['Group'] == \"Con\")]\n",
    "# Con.name = 'Con'\n",
    "# NR=nomom.loc[(nomom['Group'] == \"NR\")]\n",
    "# NR.name = 'NR'\n",
    "\n",
    "z_score_corr_c = pd.read_csv('/Users/DOT/~Kalin-Lab~/ConteCenter/NOMOM/STATS/NOMOM_corr_matrix_con_z.csv', index_col=0, header=0)\n",
    "z_score_corr_nr = pd.read_csv('/Users/DOT/~Kalin-Lab~/ConteCenter/NOMOM/STATS/NOMOM_corr_matrix_nr_z.csv', index_col=0, header=0)\n",
    "\n",
    "#add matrix with inclusion info\n",
    "endo_endo_matrix = pd.read_csv('/Users/DOT/~Kalin-Lab~/ConteCenter/NOMOM/STATS/NOMOM_matrix_endo-endo.csv', index_col=0, header=0)\n",
    "brain_brain_matrix = pd.read_csv('/Users/DOT/~Kalin-Lab~/ConteCenter/NOMOM/STATS/NOMOM_matrix_brain-brain.csv', index_col=0, header=0)\n",
    "endo_brain_matrix = pd.read_csv('/Users/DOT/~Kalin-Lab~/ConteCenter/NOMOM/STATS/NOMOM_matrix_endo-brain.csv', index_col=0, header=0)\n",
    "beh_beh_matrix = pd.read_csv('/Users/DOT/~Kalin-Lab~/ConteCenter/NOMOM/STATS/NOMOM_matrix_beh-beh.csv', index_col=0, header=0)\n",
    "beh_endo_matrix = pd.read_csv('/Users/DOT/~Kalin-Lab~/ConteCenter/NOMOM/STATS/NOMOM_matrix_beh-endo.csv', index_col=0, header=0)\n",
    "beh_brain_matrix = pd.read_csv('/Users/DOT/~Kalin-Lab~/ConteCenter/NOMOM/STATS/NOMOM_matrix_beh-brain.csv', index_col=0, header=0)\n",
    "\n",
    "#Manual file\n",
    "# z_score_diff = pd.read_csv('/Users/DOT/~Kalin-Lab~/ConteCenter/NOMOM/STATS/NOMOM_corr_matrix_diff_manual_diag.csv', index_col=0, header=0)\n",
    "#non manual file\n",
    "z_score_diff = z_score_corr_nr - z_score_corr_c\n",
    "# z_score_diff.to_csv('/Users/DOT/~Kalin-Lab~/ConteCenter/NOMOM/STATS/NOMOM_corr_matrix_diff.csv')"
   ]
  },
  {
   "cell_type": "code",
   "execution_count": null,
   "metadata": {},
   "outputs": [],
   "source": []
  },
  {
   "cell_type": "code",
   "execution_count": 310,
   "metadata": {
    "collapsed": true,
    "jupyter": {
     "outputs_hidden": true
    }
   },
   "outputs": [
    {
     "ename": "IndexError",
     "evalue": "positional indexers are out-of-bounds",
     "output_type": "error",
     "traceback": [
      "\u001b[0;31m---------------------------------------------------------------------------\u001b[0m",
      "\u001b[0;31mIndexError\u001b[0m                                Traceback (most recent call last)",
      "\u001b[0;32m~/opt/anaconda3/lib/python3.8/site-packages/pandas/core/indexing.py\u001b[0m in \u001b[0;36m_get_list_axis\u001b[0;34m(self, key, axis)\u001b[0m\n\u001b[1;32m   1468\u001b[0m         \u001b[0;32mtry\u001b[0m\u001b[0;34m:\u001b[0m\u001b[0;34m\u001b[0m\u001b[0;34m\u001b[0m\u001b[0m\n\u001b[0;32m-> 1469\u001b[0;31m             \u001b[0;32mreturn\u001b[0m \u001b[0mself\u001b[0m\u001b[0;34m.\u001b[0m\u001b[0mobj\u001b[0m\u001b[0;34m.\u001b[0m\u001b[0m_take_with_is_copy\u001b[0m\u001b[0;34m(\u001b[0m\u001b[0mkey\u001b[0m\u001b[0;34m,\u001b[0m \u001b[0maxis\u001b[0m\u001b[0;34m=\u001b[0m\u001b[0maxis\u001b[0m\u001b[0;34m)\u001b[0m\u001b[0;34m\u001b[0m\u001b[0;34m\u001b[0m\u001b[0m\n\u001b[0m\u001b[1;32m   1470\u001b[0m         \u001b[0;32mexcept\u001b[0m \u001b[0mIndexError\u001b[0m \u001b[0;32mas\u001b[0m \u001b[0merr\u001b[0m\u001b[0;34m:\u001b[0m\u001b[0;34m\u001b[0m\u001b[0;34m\u001b[0m\u001b[0m\n",
      "\u001b[0;32m~/opt/anaconda3/lib/python3.8/site-packages/pandas/core/generic.py\u001b[0m in \u001b[0;36m_take_with_is_copy\u001b[0;34m(self, indices, axis)\u001b[0m\n\u001b[1;32m   3362\u001b[0m         \"\"\"\n\u001b[0;32m-> 3363\u001b[0;31m         \u001b[0mresult\u001b[0m \u001b[0;34m=\u001b[0m \u001b[0mself\u001b[0m\u001b[0;34m.\u001b[0m\u001b[0mtake\u001b[0m\u001b[0;34m(\u001b[0m\u001b[0mindices\u001b[0m\u001b[0;34m=\u001b[0m\u001b[0mindices\u001b[0m\u001b[0;34m,\u001b[0m \u001b[0maxis\u001b[0m\u001b[0;34m=\u001b[0m\u001b[0maxis\u001b[0m\u001b[0;34m)\u001b[0m\u001b[0;34m\u001b[0m\u001b[0;34m\u001b[0m\u001b[0m\n\u001b[0m\u001b[1;32m   3364\u001b[0m         \u001b[0;31m# Maybe set copy if we didn't actually change the index.\u001b[0m\u001b[0;34m\u001b[0m\u001b[0;34m\u001b[0m\u001b[0;34m\u001b[0m\u001b[0m\n",
      "\u001b[0;32m~/opt/anaconda3/lib/python3.8/site-packages/pandas/core/generic.py\u001b[0m in \u001b[0;36mtake\u001b[0;34m(self, indices, axis, is_copy, **kwargs)\u001b[0m\n\u001b[1;32m   3349\u001b[0m \u001b[0;34m\u001b[0m\u001b[0m\n\u001b[0;32m-> 3350\u001b[0;31m         new_data = self._mgr.take(\n\u001b[0m\u001b[1;32m   3351\u001b[0m             \u001b[0mindices\u001b[0m\u001b[0;34m,\u001b[0m \u001b[0maxis\u001b[0m\u001b[0;34m=\u001b[0m\u001b[0mself\u001b[0m\u001b[0;34m.\u001b[0m\u001b[0m_get_block_manager_axis\u001b[0m\u001b[0;34m(\u001b[0m\u001b[0maxis\u001b[0m\u001b[0;34m)\u001b[0m\u001b[0;34m,\u001b[0m \u001b[0mverify\u001b[0m\u001b[0;34m=\u001b[0m\u001b[0;32mTrue\u001b[0m\u001b[0;34m\u001b[0m\u001b[0;34m\u001b[0m\u001b[0m\n",
      "\u001b[0;32m~/opt/anaconda3/lib/python3.8/site-packages/pandas/core/internals/managers.py\u001b[0m in \u001b[0;36mtake\u001b[0;34m(self, indexer, axis, verify, convert)\u001b[0m\n\u001b[1;32m   1439\u001b[0m         \u001b[0;32mif\u001b[0m \u001b[0mconvert\u001b[0m\u001b[0;34m:\u001b[0m\u001b[0;34m\u001b[0m\u001b[0;34m\u001b[0m\u001b[0m\n\u001b[0;32m-> 1440\u001b[0;31m             \u001b[0mindexer\u001b[0m \u001b[0;34m=\u001b[0m \u001b[0mmaybe_convert_indices\u001b[0m\u001b[0;34m(\u001b[0m\u001b[0mindexer\u001b[0m\u001b[0;34m,\u001b[0m \u001b[0mn\u001b[0m\u001b[0;34m)\u001b[0m\u001b[0;34m\u001b[0m\u001b[0;34m\u001b[0m\u001b[0m\n\u001b[0m\u001b[1;32m   1441\u001b[0m \u001b[0;34m\u001b[0m\u001b[0m\n",
      "\u001b[0;32m~/opt/anaconda3/lib/python3.8/site-packages/pandas/core/indexers.py\u001b[0m in \u001b[0;36mmaybe_convert_indices\u001b[0;34m(indices, n)\u001b[0m\n\u001b[1;32m    249\u001b[0m     \u001b[0;32mif\u001b[0m \u001b[0mmask\u001b[0m\u001b[0;34m.\u001b[0m\u001b[0many\u001b[0m\u001b[0;34m(\u001b[0m\u001b[0;34m)\u001b[0m\u001b[0;34m:\u001b[0m\u001b[0;34m\u001b[0m\u001b[0;34m\u001b[0m\u001b[0m\n\u001b[0;32m--> 250\u001b[0;31m         \u001b[0;32mraise\u001b[0m \u001b[0mIndexError\u001b[0m\u001b[0;34m(\u001b[0m\u001b[0;34m\"indices are out-of-bounds\"\u001b[0m\u001b[0;34m)\u001b[0m\u001b[0;34m\u001b[0m\u001b[0;34m\u001b[0m\u001b[0m\n\u001b[0m\u001b[1;32m    251\u001b[0m     \u001b[0;32mreturn\u001b[0m \u001b[0mindices\u001b[0m\u001b[0;34m\u001b[0m\u001b[0;34m\u001b[0m\u001b[0m\n",
      "\u001b[0;31mIndexError\u001b[0m: indices are out-of-bounds",
      "\nThe above exception was the direct cause of the following exception:\n",
      "\u001b[0;31mIndexError\u001b[0m                                Traceback (most recent call last)",
      "\u001b[0;32m<ipython-input-310-2606a2c4e18a>\u001b[0m in \u001b[0;36m<module>\u001b[0;34m\u001b[0m\n\u001b[1;32m      9\u001b[0m \u001b[0;34m\u001b[0m\u001b[0m\n\u001b[1;32m     10\u001b[0m \u001b[0;31m# print(z_score_diff.iloc[np.array(endo_brain_matrix) == 1 ])\u001b[0m\u001b[0;34m\u001b[0m\u001b[0;34m\u001b[0m\u001b[0;34m\u001b[0m\u001b[0m\n\u001b[0;32m---> 11\u001b[0;31m \u001b[0mprint\u001b[0m\u001b[0;34m(\u001b[0m\u001b[0mz_score_diff\u001b[0m\u001b[0;34m.\u001b[0m\u001b[0miloc\u001b[0m\u001b[0;34m[\u001b[0m\u001b[0mnp\u001b[0m\u001b[0;34m.\u001b[0m\u001b[0marray\u001b[0m\u001b[0;34m(\u001b[0m\u001b[0mendo_brain_matrix\u001b[0m\u001b[0;34m)\u001b[0m \u001b[0;34m==\u001b[0m \u001b[0;36m1\u001b[0m \u001b[0;34m]\u001b[0m\u001b[0;34m.\u001b[0m\u001b[0miloc\u001b[0m\u001b[0;34m[\u001b[0m\u001b[0mendo_cols\u001b[0m\u001b[0;34m]\u001b[0m\u001b[0;34m)\u001b[0m\u001b[0;34m\u001b[0m\u001b[0;34m\u001b[0m\u001b[0m\n\u001b[0m\u001b[1;32m     12\u001b[0m \u001b[0;34m\u001b[0m\u001b[0m\n\u001b[1;32m     13\u001b[0m \u001b[0;31m# category_values['beh-beh'] =  z_score_diff.iloc[beh_cols,beh_cols].mean().mean()\u001b[0m\u001b[0;34m\u001b[0m\u001b[0;34m\u001b[0m\u001b[0;34m\u001b[0m\u001b[0m\n",
      "\u001b[0;32m~/opt/anaconda3/lib/python3.8/site-packages/pandas/core/indexing.py\u001b[0m in \u001b[0;36m__getitem__\u001b[0;34m(self, key)\u001b[0m\n\u001b[1;32m    877\u001b[0m \u001b[0;34m\u001b[0m\u001b[0m\n\u001b[1;32m    878\u001b[0m             \u001b[0mmaybe_callable\u001b[0m \u001b[0;34m=\u001b[0m \u001b[0mcom\u001b[0m\u001b[0;34m.\u001b[0m\u001b[0mapply_if_callable\u001b[0m\u001b[0;34m(\u001b[0m\u001b[0mkey\u001b[0m\u001b[0;34m,\u001b[0m \u001b[0mself\u001b[0m\u001b[0;34m.\u001b[0m\u001b[0mobj\u001b[0m\u001b[0;34m)\u001b[0m\u001b[0;34m\u001b[0m\u001b[0;34m\u001b[0m\u001b[0m\n\u001b[0;32m--> 879\u001b[0;31m             \u001b[0;32mreturn\u001b[0m \u001b[0mself\u001b[0m\u001b[0;34m.\u001b[0m\u001b[0m_getitem_axis\u001b[0m\u001b[0;34m(\u001b[0m\u001b[0mmaybe_callable\u001b[0m\u001b[0;34m,\u001b[0m \u001b[0maxis\u001b[0m\u001b[0;34m=\u001b[0m\u001b[0maxis\u001b[0m\u001b[0;34m)\u001b[0m\u001b[0;34m\u001b[0m\u001b[0;34m\u001b[0m\u001b[0m\n\u001b[0m\u001b[1;32m    880\u001b[0m \u001b[0;34m\u001b[0m\u001b[0m\n\u001b[1;32m    881\u001b[0m     \u001b[0;32mdef\u001b[0m \u001b[0m_is_scalar_access\u001b[0m\u001b[0;34m(\u001b[0m\u001b[0mself\u001b[0m\u001b[0;34m,\u001b[0m \u001b[0mkey\u001b[0m\u001b[0;34m:\u001b[0m \u001b[0mTuple\u001b[0m\u001b[0;34m)\u001b[0m\u001b[0;34m:\u001b[0m\u001b[0;34m\u001b[0m\u001b[0;34m\u001b[0m\u001b[0m\n",
      "\u001b[0;32m~/opt/anaconda3/lib/python3.8/site-packages/pandas/core/indexing.py\u001b[0m in \u001b[0;36m_getitem_axis\u001b[0;34m(self, key, axis)\u001b[0m\n\u001b[1;32m   1485\u001b[0m         \u001b[0;31m# a list of integers\u001b[0m\u001b[0;34m\u001b[0m\u001b[0;34m\u001b[0m\u001b[0;34m\u001b[0m\u001b[0m\n\u001b[1;32m   1486\u001b[0m         \u001b[0;32melif\u001b[0m \u001b[0mis_list_like_indexer\u001b[0m\u001b[0;34m(\u001b[0m\u001b[0mkey\u001b[0m\u001b[0;34m)\u001b[0m\u001b[0;34m:\u001b[0m\u001b[0;34m\u001b[0m\u001b[0;34m\u001b[0m\u001b[0m\n\u001b[0;32m-> 1487\u001b[0;31m             \u001b[0;32mreturn\u001b[0m \u001b[0mself\u001b[0m\u001b[0;34m.\u001b[0m\u001b[0m_get_list_axis\u001b[0m\u001b[0;34m(\u001b[0m\u001b[0mkey\u001b[0m\u001b[0;34m,\u001b[0m \u001b[0maxis\u001b[0m\u001b[0;34m=\u001b[0m\u001b[0maxis\u001b[0m\u001b[0;34m)\u001b[0m\u001b[0;34m\u001b[0m\u001b[0;34m\u001b[0m\u001b[0m\n\u001b[0m\u001b[1;32m   1488\u001b[0m \u001b[0;34m\u001b[0m\u001b[0m\n\u001b[1;32m   1489\u001b[0m         \u001b[0;31m# a single integer\u001b[0m\u001b[0;34m\u001b[0m\u001b[0;34m\u001b[0m\u001b[0;34m\u001b[0m\u001b[0m\n",
      "\u001b[0;32m~/opt/anaconda3/lib/python3.8/site-packages/pandas/core/indexing.py\u001b[0m in \u001b[0;36m_get_list_axis\u001b[0;34m(self, key, axis)\u001b[0m\n\u001b[1;32m   1470\u001b[0m         \u001b[0;32mexcept\u001b[0m \u001b[0mIndexError\u001b[0m \u001b[0;32mas\u001b[0m \u001b[0merr\u001b[0m\u001b[0;34m:\u001b[0m\u001b[0;34m\u001b[0m\u001b[0;34m\u001b[0m\u001b[0m\n\u001b[1;32m   1471\u001b[0m             \u001b[0;31m# re-raise with different error message\u001b[0m\u001b[0;34m\u001b[0m\u001b[0;34m\u001b[0m\u001b[0;34m\u001b[0m\u001b[0m\n\u001b[0;32m-> 1472\u001b[0;31m             \u001b[0;32mraise\u001b[0m \u001b[0mIndexError\u001b[0m\u001b[0;34m(\u001b[0m\u001b[0;34m\"positional indexers are out-of-bounds\"\u001b[0m\u001b[0;34m)\u001b[0m \u001b[0;32mfrom\u001b[0m \u001b[0merr\u001b[0m\u001b[0;34m\u001b[0m\u001b[0;34m\u001b[0m\u001b[0m\n\u001b[0m\u001b[1;32m   1473\u001b[0m \u001b[0;34m\u001b[0m\u001b[0m\n\u001b[1;32m   1474\u001b[0m     \u001b[0;32mdef\u001b[0m \u001b[0m_getitem_axis\u001b[0m\u001b[0;34m(\u001b[0m\u001b[0mself\u001b[0m\u001b[0;34m,\u001b[0m \u001b[0mkey\u001b[0m\u001b[0;34m,\u001b[0m \u001b[0maxis\u001b[0m\u001b[0;34m:\u001b[0m \u001b[0mint\u001b[0m\u001b[0;34m)\u001b[0m\u001b[0;34m:\u001b[0m\u001b[0;34m\u001b[0m\u001b[0;34m\u001b[0m\u001b[0m\n",
      "\u001b[0;31mIndexError\u001b[0m: positional indexers are out-of-bounds"
     ]
    }
   ],
   "source": [
    "    beh_cols = list(np.arange(0,12,1))\n",
    "    endo_cols = [12]\n",
    "    brain_cols = list(np.arange(13,41,1))\n",
    "\n",
    "\n",
    "# print(z_score_diff.iloc[np.array(beh_endo_matrix) > 0 ].iloc[beh_cols,beh_cols].mean())\n",
    "# print(z_score_diff.iloc[np.array(endo_brain_matrix) > 0 ].iloc[endo_cols,brain_cols].mean())\n",
    "# print(z_score_diff.iloc[beh_cols,beh_cols])\n",
    "\n",
    "# print(z_score_diff.iloc[np.array(endo_brain_matrix) == 1 ])\n",
    "print(z_score_diff.iloc[np.array(endo_brain_matrix) == 1 ].iloc[endo_cols])\n",
    " \n",
    "# category_values['beh-beh'] =  z_score_diff.iloc[beh_cols,beh_cols].mean().mean()\n",
    "# print(z_score_diff.iloc[np.array(endo_brain_matrix) > 0 ].mean().mean())"
   ]
  },
  {
   "cell_type": "code",
   "execution_count": 295,
   "metadata": {
    "collapsed": true,
    "jupyter": {
     "outputs_hidden": true
    }
   },
   "outputs": [
    {
     "name": "stdout",
     "output_type": "stream",
     "text": [
      "0 Environmental Explore (NEC-PET)\n",
      "1 Environmental Explore (Alone-HIP)\n",
      "2 Environmental Explore (Stare-HIP)\n",
      "3 Experimenter Orient (NEC-PET)\n",
      "4 Experimenter Orient (NEC-HIP)\n",
      "5 Freezing (NEC-PET)\n",
      "6 Freezing (Alone-HIP)\n",
      "7 Locomotion (Alone-HIP)\n",
      "8 Self-directed (NEC-PET)\n",
      "9 Self-directed (Alone-HIP)\n",
      "10 Self-directed (NEC-HIP)\n",
      "11 Self-directed (Stare-HIP)\n",
      "12 CSF Oxytocin\n",
      "13 Internal Capsule cluster (MD)\n",
      "14 OFC cluster 1 (MD)\n",
      "15 IC/Parietal cluster (MD)\n",
      "16 Temporal/Insular cluster (MD)\n",
      "17 Occipito/Parietal cluster (MD)\n",
      "18 OFC cluster 2 (MD)\n",
      "19 Corona Radiata/IC cluster (MD)\n",
      "20 Visual Cortex cluster (MD)\n",
      "21 Medial Temporal cluster (MD)\n",
      "22 Entorhinal cortex cluster (MD)\n",
      "23 Cerebellum cluster (MD)\n",
      "24 Internal Capsule cluster (AD)\n",
      "25 Temporal/Insular cluster 1 (AD)\n",
      "26 Temporal/Insular cluster 2 (AD)\n",
      "27 Occipito/Parietal cluster 1 (AD)\n",
      "28 Occipito/Parietal cluster 2 (AD)\n",
      "29 Visual Cortex cluster 1 (AD)\n",
      "30 Cerebellum cluster (AD)\n",
      "31 Visual Cortex cluster 2 (AD)\n",
      "32 IC/Parietal/Brainstem cluster (RD)\n",
      "33 OFC cluster 1 (RD)\n",
      "34 Internal Capsule cluster (RD)\n",
      "35 Temporal/Insula cluster (RD)\n",
      "36 OFC cluster 2 (RD)\n",
      "37 Cerebellum cluster 1 (RD)\n",
      "38 Enthorinal cluster (RD)\n",
      "39 Cerebellum cluster 2 (RD)\n",
      "40 Medial/Temporal cluster (RD)\n"
     ]
    }
   ],
   "source": [
    "for i, col in enumerate(z_score_diff.columns):\n",
    "    print(i,col)"
   ]
  },
  {
   "cell_type": "code",
   "execution_count": 192,
   "metadata": {
    "jupyter": {
     "source_hidden": true
    }
   },
   "outputs": [],
   "source": [
    "#Define which columns/rows are which modality\n",
    "#old approach, now using csv\n",
    "beh_cols = list(np.arange(0,12,1))\n",
    "endo_cols = [12]\n",
    "brain_cols = list(np.arange(13,41,1))\n",
    "# z_score_diff.iloc[beh_cols,brain_cols]"
   ]
  },
  {
   "cell_type": "code",
   "execution_count": 193,
   "metadata": {
    "jupyter": {
     "source_hidden": true
    }
   },
   "outputs": [],
   "source": [
    "# # Simplified version without matrix to indicate included values\n",
    "# # function to compute differences\n",
    "# def get_category_differences( z_score_diff ):\n",
    "#     beh_cols = list(np.arange(0,12,1))\n",
    "#     endo_cols = [12]\n",
    "#     brain_cols = list(np.arange(13,41,1))\n",
    "    \n",
    "#     # might have to make a csv file to help select the right values from matrix without diagonal duplicates...\n",
    "#     # beh_beh_matrix = np.array() # ones for beh_beh, zeros for else... \n",
    "#     # you might have to do something special to get rid of ones on the diagonal... \n",
    "#     #    z_score_diff.iloc[beh_beh_matrix > 0 ]\n",
    "\n",
    "#     category_values = {}\n",
    "#     category_values['beh-beh'] =  z_score_diff.iloc[beh_cols,beh_cols].mean().mean()\n",
    "#     category_values['beh-endo'] = z_score_diff.iloc[beh_cols,endo_cols].mean().mean()\n",
    "#     category_values['beh-brain'] = z_score_diff.iloc[beh_cols,brain_cols].mean().mean()\n",
    "#     category_values['endo-brain'] = z_score_diff.iloc[endo_cols,brain_cols].mean().mean()\n",
    "#     category_values['endo-endo'] = z_score_diff.iloc[endo_cols,endo_cols].mean().mean()\n",
    "#     category_values['brain-brain'] = z_score_diff.iloc[brain_cols,brain_cols].mean().mean()\n",
    "#     category_differences = {}\n",
    "#     #Add variable\n",
    "#     category_differences = category_values['beh-beh']-category_values['beh-brain']\n",
    "#     return category_differences\n"
   ]
  },
  {
   "cell_type": "code",
   "execution_count": 158,
   "metadata": {},
   "outputs": [],
   "source": [
    "# function to compute differences\n",
    "# Implement csv files\n",
    "def get_category_differences( z_score_diff ):\n",
    "    beh_cols = list(np.arange(0,12,1))\n",
    "    endo_cols = [12]\n",
    "    brain_cols = list(np.arange(13,41,1))\n",
    "    \n",
    "    # might have to make a csv file to help select the right values from matrix without diagonal duplicates...\n",
    "    endo_endo_array = np.array(endo_endo_matrix) # ones for beh_beh, zeros for else... \n",
    "    brain_brain_array = np.array(brain_brain_matrix)\n",
    "    endo_brain_array = np.array(endo_brain_matrix)\n",
    "    beh_beh_array = np.array(beh_beh_matrix)\n",
    "    beh_endo_array = np.array(beh_endo_matrix)\n",
    "    beh_brain_array = np.array(beh_brain_matrix)\n",
    "    # Drew: you might have to do something special to get rid of ones on the diagonal... Do:I just made them 0 (hope that is ok?)\n",
    "#     z_score_diff.iloc[beh_beh_matrix > 0 ]\n",
    "\n",
    "    category_values = {}\n",
    "    category_values['beh-beh'] =  z_score_diff.iloc[beh_beh_array > 0 ].iloc[beh_cols,beh_cols].mean().mean()\n",
    "    category_values['beh-endo'] = z_score_diff.iloc[beh_endo_array > 0 ].iloc[beh_cols,endo_cols].mean().mean()\n",
    "    category_values['beh-brain'] = z_score_diff.iloc[beh_brain_array > 0 ].iloc[beh_cols,brain_cols].mean().mean()\n",
    "    category_values['endo-brain'] = z_score_diff.iloc[endo_brain_array > 0 ].iloc[endo_cols,brain_cols].mean().mean()\n",
    "#     category_values['endo-endo'] = z_score_diff.iloc[endo_endo_array > 0 ].mean().mean() #there is only 1 value\n",
    "    category_values['brain-brain'] = z_score_diff.iloc[brain_brain_array > 0 ].iloc[brain_cols,brain_cols].mean().mean()\n",
    "    category_differences = {}\n",
    "    category_differences['beh-beh-beh_endo'] = category_values['beh-beh']-category_values['beh-endo']\n",
    "    category_differences['beh-beh-beh-brain'] = category_values['beh-beh']-category_values['beh-brain']\n",
    "    category_differences['beh-beh-endo-brain'] = category_values['beh-beh']-category_values['endo-brain']\n",
    "    category_differences['beh-beh-brain-brain'] = category_values['beh-beh']-category_values['brain-brain']\n",
    "    category_differences['beh-endo-beh-brain'] = category_values['beh-endo']-category_values['beh-brain']   \n",
    "    category_differences['beh-endo-endo-brain'] = category_values['beh-endo']-category_values['endo-brain']  \n",
    "    category_differences['beh-endo-brain-brain'] = category_values['beh-endo']-category_values['brain-brain']      \n",
    "    category_differences['beh-brain-endo-brain'] = category_values['beh-brain']-category_values['endo-brain']  \n",
    "    category_differences['beh-brain-brain-brain'] = category_values['beh-brain']-category_values['brain-brain']\n",
    "    category_differences['endo-brain-brain-brain'] = category_values['endo-brain']-category_values['brain-brain']\n",
    "    return category_differences\n",
    "\n"
   ]
  },
  {
   "cell_type": "code",
   "execution_count": 162,
   "metadata": {},
   "outputs": [
    {
     "name": "stdout",
     "output_type": "stream",
     "text": [
      "{'beh-beh-beh_endo': 0.09424674593404883, 'beh-beh-beh-brain': 0.24150656604473753, 'beh-beh-endo-brain': 0.24150656604473755, 'beh-beh-brain-brain': 0.23064771852270727, 'beh-endo-beh-brain': 0.1472598201106887, 'beh-endo-endo-brain': 0.14725982011068872, 'beh-endo-brain-brain': 0.13640097258865846, 'beh-brain-endo-brain': 2.7755575615628914e-17, 'beh-brain-brain-brain': -0.010858847522030243, 'endo-brain-brain-brain': -0.010858847522030271}\n"
     ]
    }
   ],
   "source": [
    "# compute actual differences\n",
    "actual_differences = get_category_differences( z_score_diff )\n",
    "print(actual_differences()\n"
   ]
  },
  {
   "cell_type": "code",
   "execution_count": 145,
   "metadata": {},
   "outputs": [],
   "source": [
    "# # compute fake differences (i.e. the distribution of differences)\n",
    "# fake_differences = []\n",
    "# for i in np.arange(0,1000,1):\n",
    "#     shuffled_z_score_diffs = z_score_diff.iloc[np.random.choice(41, 41, replace=False),np.random.choice(41, 41, replace=False)]\n",
    "#     fake_differences.append(get_category_differences( shuffled_z_score_diffs ))\n",
    "\n"
   ]
  },
  {
   "cell_type": "code",
   "execution_count": null,
   "metadata": {},
   "outputs": [],
   "source": [
    "# compute fake differences (i.e. the distribution of differences)\n",
    "# run for each combination of modalities\n",
    "    z_score_diff_incl = {}\n",
    "    z_score_diff_incl['beh-beh'] =  z_score_diff.iloc[beh_beh_array > 0 ]\n",
    "    z_score_diff_incl['beh-endo'] = z_score_diff.iloc[beh_endo_array > 0 ]\n",
    "    z_score_diff_incl['beh-brain'] = z_score_diff.iloc[beh_brain_array > 0 ]\n",
    "    z_score_diff_incl['endo-brain'] = z_score_diff.iloc[endo_brain_array > 0 ]\n",
    "#     category_values['endo-endo'] = z_score_diff.iloc[endo_endo_array > 0 ] #there is only 1 value\n",
    "    z_score_diff_incl['brain-brain'] = z_score_diff.iloc[brain_brain_array > 0 ]\n",
    "    \n",
    "# fake_differences = []\n",
    "for i in np.arange(0,100,1):\n",
    "    shuffled_z_score_diffs = z_score_diff_incl.iloc[np.random.choice(41, 41, replace=False),np.random.choice(41, 41, replace=False)]\n",
    "    fake_differences.append(get_category_differences( shuffled_z_score_diffs ))\n",
    "\n",
    "\n"
   ]
  },
  {
   "cell_type": "code",
   "execution_count": 160,
   "metadata": {
    "collapsed": true,
    "jupyter": {
     "outputs_hidden": true
    }
   },
   "outputs": [
    {
     "name": "stdout",
     "output_type": "stream",
     "text": [
      "{'beh-beh-beh_endo': 0.09424674593404883, 'beh-beh-beh-brain': 0.24150656604473753, 'beh-beh-endo-brain': 0.24150656604473755, 'beh-beh-brain-brain': 0.23064771852270727, 'beh-endo-beh-brain': 0.1472598201106887, 'beh-endo-endo-brain': 0.14725982011068872, 'beh-endo-brain-brain': 0.13640097258865846, 'beh-brain-endo-brain': 2.7755575615628914e-17, 'beh-brain-brain-brain': -0.010858847522030243, 'endo-brain-brain-brain': -0.010858847522030271}\n",
      "[0.18182771641469603, 0.034911384846808294, -0.02538599057612083, 0.019585998765874038, 0.03808067940975156, -0.016075566661307536, 0.06355056056780428, -0.06254807691843592, -0.05581655685663322, -0.04315448941168344, -0.043985771830099794, 0.018097665258953538, 0.008431116219118052, -0.027229019711083075, 0.0031016954197634616, 0.003365952857482861, 0.014493037266851212, -0.020745359922683542, -0.03959967773351619, 0.15052230170534958, -0.06004745361012903, -0.07302591759420016, 0.0362281040956342, 0.03096551385856695, 0.1325349414726182, -0.09726396867958827, -0.025676568071615752, 0.03651359164701424, -0.03001872331772639, 0.07233968632859936, -0.06761649079851392, -0.13094185354631344, -0.07387719940109931, -0.0017318634722581494, 0.07544418502296456, 0.013305807389367937, 0.010015280639056939, 0.01653562389779807, 0.030564078840748417, -0.029705043295595125, -0.1808994388846261, -0.03631302041304117, 0.03543475901478772, 0.03361485901812987, -0.018746006038274907, 0.07790855064148494, 0.12757126898868157, 0.0476743668134125, 0.05320882879294553, 0.0030652462136625327, 0.025827998093408557, 0.08526576764852872, -0.022988495473786744, -0.007608018886414825, -0.009502588370456769, -0.029023756299077115, -0.0985856125987743, 0.01793947408608492, 0.10998988998465949, -0.008730798598103377, 0.03447480127669255, 0.026337578794678067, 0.011531057496144276, 0.05181723848769173, 0.03281187117442213, 0.04019832378190109, -0.01718674313714815, -0.06256508336172116, 0.04539622790246586, 0.10751803868534625, -0.048396151730447826, -0.010662521507833339, -0.04017411902492029, 0.013627796598470368, -0.05345504041438865, 0.03639165477885468, 0.005288276099621937, -0.05708489376209945, -0.02160119700093996, 0.0748254841393399, 0.027818936685338056, -0.05033301914741, 0.008682290019386352, -0.08980487565868939, -0.06439084107195947, 0.0635267699157949, 0.05922000714513676, -0.02378061484295245, -0.02662556815085515, 0.04060193267983163, 0.0008956424744554214, -0.06876957955714663, 0.08424692258895283, -0.06023087112898125, -0.0849847260211673, 0.04310220025778939, 0.11958432994289181, -0.044773727920328854, 0.04235945396111731, 0.0268261248951073, 0.037686406038894595, -0.05140106243671262, 0.056410172162929394, -0.06992022708746753, 0.001867113352095745, 0.0670456167146171, 0.08016678473268385, 0.051728607393530246, -0.028553944399665604, 0.04215226903412011, 0.08361394354168004, -0.0017213092416410655, 0.026014053464688058, -0.022187797836794594, -0.04309446109954199, -0.025388721277736816, 0.01084598143207327, -0.06187114273739783, -0.09124555726202474, -0.0591120952550062, -0.059847401400913575, -0.08878305607086634, -0.021157958710472866, 0.0250843586528191, 0.07372440002443052, -0.031101688786396256, 0.025836138321093667, -0.041901400402581446, 0.028753963729887172, -0.029172452561764973, 0.06034347488069578, 0.02809397799088314, 0.01704248389038638, 0.006617547658543214, -0.11615922768845426, -0.009358802819033868, -0.04547402375636161, 0.04970223382992148, -0.12513273876748562, 0.04548467986070631, -0.10811576665090158, 0.03658968618905746, -0.09261268684162514, -0.027875258148309087, -0.10057622301224661, 0.01342227100031941, -0.09552169229066061, 0.026079453517423072, 0.013423570358113215, 0.014623619930416998, 0.04352986907711461, -0.07973747862277765, -0.09945030041900994, 0.0460333682224535, 0.09117274776244676, 0.020929213190417614, 0.06377249837525639, -0.008847346189435668, 0.022993304803834998, -0.08075442062913966, -0.008892121737875056, 0.1139061643704514, 0.08198688452768794, -0.03042630139448292, -0.07791097339413493, -0.0082677697527863, -0.037792633955064714, 0.0649532815516317, -0.0242263246229601, 0.07238808391168036, 0.06373012382438413, 0.069326381881588, -0.02535431025870063, 0.16640134193259043, 0.09569271661684264, 0.06949744508543054, 0.07825375474016462, -0.036155570800016204, -0.014032895603542067, 0.00012633263913761072, -0.07606218176213903, -0.055318728578776, 0.10467475175465846, -0.013421539245861279, 0.02360511113398596, 0.028138355888654112, -0.05042363398165973, 0.10782803870709623, -0.057280951269948296, -0.05597126296807196, -0.059548617906690665, -0.08944729173328386, -0.07181791192324849, 0.07693246031451745, -0.164891905050222, -0.01895710769712921, 0.009878110519820064, 0.010178360305051981, -0.01731683116901979, -0.04804860245292968, -0.0378952968445468, -0.012981732609963475, 0.02244129955518224, -0.009823953359233945, -0.13596434913351607, -0.07115379542545094, 0.042703918121212436, -0.11967879191557795, 0.05055241637980648, 0.03873838691456055, 0.027801528718025464, -0.09767112029206204, 0.09521866046533643, 0.10470942905031341, -0.03308928334831082, 0.0030927699399915104, 0.046651874584025185, -0.0224730302698549, -0.05279772013944689, -0.15550125761009986, -0.025337560873549207, 0.01861307125983403, 0.045947270147283954, 0.025651507867493338, 0.046242922329370995, 0.049394142440477705, -0.09989104765522336, -0.014938567803444824, -0.006108804045028851, -0.1017401266482943, -0.03811326288238359, 0.10785025948914158, -0.10908366688144827, 0.10747740984104275, -0.06145519846384438, -0.043100716034917004, -0.022462234049837833, -0.006177632862216745, -0.015522714129887753, 0.08793707327995476, 0.06992611417049378, -0.019021609979377074, -0.046439849987141096, 0.027448507290877677, 0.0772720189606881, -0.032808736996468704, 0.0928400610824657, 0.013362017507073054, -0.03839796235944173, 0.05644443933553843, -0.0195338141881577, -0.05210372308719548, 0.012641686967463914, 0.0027317408875249735, 0.06713378920756553, 0.054673957861140404, 0.05536707746845812, 0.13073433624798078, -0.057274124731020636, -0.016944756994771243, 0.05163885447811983, 0.02532306458496529, -0.024989481355932992, -0.09760557618070022, -0.015284818336960299, -0.10815658273722906, -0.03453248607620808, -0.04496994814920909, 0.040726072467256354, -0.10724415412159112, 0.10137737025271944, -0.02655543781339697, 0.17612704988915426, -0.008196544789564109, 0.07988150826316799, 0.08149546959830431, -0.07424805941455578, -0.029130231968077368, -0.061397333811767346, 0.04507483888386829, 0.061102990808423546, -0.04329332808356643, 0.04818254409985205, 0.12778916660777423, -0.07065197441362832, -0.019254072752084503, -0.09001713919724719, -0.023094907579246607, 0.028494103572403125, 0.007517117540897476, -0.08808535034736718, 0.024803689044404525, -0.08307727981722976, 0.03327097530135004, 0.078600349312342, 0.05383459400667667, 0.033807985558532504, -0.0213849028410614, -0.022387041751478425, 0.010633695247561178, -0.00019074485871333619, 0.07082251520639327, 0.00683665266404368, 0.07508289251195444, 0.0033596919565997765, -0.0355247471826926, -0.014785700583705645, -0.05846327174675871, 0.16042239056962776, -0.02486536207296136, 0.11660265446615226, 0.03917980027347067, 0.06870388214664401, 0.047904095085522326, 0.06078077304408991, 0.053084843763069725, -0.010047161649986348, 0.03773574864849413, -0.10190677061610844, 0.022735511290468635, 0.06729618139570104, 0.05048513876129764, 0.11641253308070307, 0.05505543357389081, -0.06608233529379487, 0.08673778353108533, -0.1264060068929299, 0.03809827526799681, -0.0499528236612349, 0.1173652100365298, 0.08456589319171304, -0.01602650597171859, -0.1613263254453436, 0.008229370734740567, 0.002691946074069307, 0.03542839457818763, 0.06310672836233978, 0.004535372472827141, 0.1202496286965869, 0.004130614008181578, -0.018149216239342195, 0.016266751172329882, 0.0708650730134353, -0.0006713651275787047, -0.033477875402685445, 0.0029252610885949493, -0.04571348288040997, -0.0593534295672462, -0.018438275379705438, 0.007557733340382032, 0.010327621649117436, -0.05617344114966532, -0.04688319529551326, 0.022344209394700817, 0.025123483536750243, 0.008805196548764521, -0.1249884629287884, 0.15285575125690587, -0.07291750922562629, -0.07805694434095195, -0.12481782601993041, -0.0797651867830842, -0.12403242751070816, 0.014433225536785468, 0.05615884098731751, 0.04961577076579025, -0.008365381385345982, -0.07722345175464795, -0.020920541164269474, 0.03318243540119722, 0.1149901547243848, -0.023110002279847802, 0.14321539281912388, -0.06497810907849053, -0.02075182023453353, 0.08484819716942185, -0.033052540967287755, 0.06255729279667561, 0.03352392607114252, -0.06016547444900181, 0.02012549158929007, -0.04261956938889941, -0.04349342711330324, 0.018650110657305992, 0.009828172842113132, -0.004852553209734295, 0.03549696913978727, 0.039527290897275885, 0.027807427670796133, 0.008576916867556773, 0.099170852444658, -0.0061666681361585846, 6.659202228352645e-05, 0.03774814338119166, -0.06198137657913566, -0.027671940474548302, 0.028620761281671053, 0.03223856272416513, -0.09730722023086384, 0.08683671307213475, -0.03879128028234975, -0.012536481174820029, -0.05952701503492778, 0.04639470127923703, 0.008625062719243938, 0.01740398809814495, -0.07495189858250301, 0.059563148850154624, 0.029615558635235087, -0.0038395442365208934, 0.01072278498567128, 0.0037620062862712272, 0.057602651678559616, -0.0462498316796408, 0.03907348388246888, -0.01971717150844609, 0.024773325025996686, 0.025178621415508938, 0.05243063529935729, 0.13363747423153224, 0.09740683482531878, -0.020778149432113258, -0.010118200462053924, 0.008765724178510188, -0.0643034362918495, 0.007800283500900382, 0.07045750953336545, 0.06219387737422502, 0.041645083658358936, -0.029388175366133532, -0.03567287856282394, -0.037270621164027316, 0.008190084775922785, -0.016276109234973864, 0.057146113926184516, 0.036045493555334984, 0.017035989354496697, 0.08988269766175011, -0.051641392909297715, -0.027610732407995518, -0.026762191917077585, -0.09349878075961951, -0.03925520881231791, 0.03231782988980595, -0.0104234262388734, 0.015482980835470908, 0.010955326617329363, 0.04412271385097376, 0.041443334947934056, -0.07783880750718021, 0.10420232015777008, -0.0501461974388131, -0.01872106660447269, 0.0011668184807825527, -0.04641039362087303, 0.04218800410208267, -0.0735263296049106, -0.037197593169432025, -0.030978257415173543, -0.07109299981269962, -0.053925772991172224, -0.08703325550053127, 0.035066314579791334, 0.09183114995954123, -0.035513731709566884, 0.11458460275171556, 0.008879150469972362, -0.028592834285515872, 0.00868515644404401, 0.080982030558302, 0.0246793683401468, -0.037642503857135565, 0.01949489354800748, -0.009971280677208393, 0.1294046194278584, 0.061892029417855626, 0.052531496540066974, 0.032367638210559324, 0.09913733529809676, -0.15195623395033575, -0.03819998315826248, -0.012361532083607032, 0.05320287045949698, -0.10858729101515496, -0.05064561747232563, -0.0027690457513491543, 0.025488818476290462, 0.04297158254042542, -0.05584037647617792, -0.014678184745721707, -0.0448947249592376, -0.01175859289046216, 0.05498513970828419, 0.0017107762905016755, 0.01370328336902503, -0.0026560558395064687, 0.027530247310110084, -0.025410758044959667, -0.0857183724431415, 0.019351180439332767, -0.06371536830046162, -0.04434667858341203, 0.15940543498492107, 0.06457575714113813, -0.039719255713543206, 0.03484736048568145, -0.043936335625093845, 0.04707706943524196, 0.047357998851612945, 0.057038898415055286, -0.00858004361151065, 0.03049935516466862, 0.06149034329566836, 0.0982087237790805, -0.02694508868624941, 0.03128264584535032, 0.018660316746560757, -0.08731502226612559, -0.0041022147168900056, -0.018619542088026943, -0.0029140353250271117, -0.03311937371130784, 0.029390010228915388, -0.0741657621068977, -0.0171622245634483, 0.047386372511523216, 0.08863996923360803, 0.13646613648154426, 0.01433772425839825, -0.12307213109452027, 0.02500725483681114, -0.13824563752705654, -0.019707809434047693, 0.05077750727088735, -0.026765237521227336, -0.10123666651852009, -0.11115857934456634, 0.009865969327796507, -0.019777407487920597, 0.01074171648394362, 0.07944351777483298, -0.01495904338990299, -0.054075529689079346, 0.032005042939601755, 0.016438778988376375, 0.03078485824318466, 0.08558215658543789, -0.10593370327206743, -0.004495366437865522, 0.05000754687564458, 0.10104408344058946, 0.05488191462963382, -0.0009244026956846119, 0.018004905084025427, 0.033460213742650124, -0.05005832623419354, -0.04616219564117249, -0.01058633914189526, -0.05923015530776139, 0.027817661334165765, -0.058748940605877764, 0.013016072787537934, -0.0010229711094217817, 0.07019373202147751, -0.019560890385188733, -0.11396755195466064, 0.03484809296864921, 0.10159135186427973, 0.015076381036454978, 0.0006915681248730945, -0.07086245530286961, 0.03052274020612924, -0.05495821495976363, 0.06760712557856026, -0.03768992862427609, 0.05245777473107768, -0.040978468254008873, 0.02070830991590892, 0.027081557683900755, -0.061639478991566965, 0.11602652389185535, -0.008627792826229379, -0.058913794481683615, -0.06740012684147337, 0.009337014082738855, 0.05770251593812844, 0.05232967644000011, 0.032456519594826545, -0.015408055401825507, -0.11529875810113975, -0.01955438025561445, 0.0362187817206438, 0.06525025764007249, 4.150308703101957e-05, 0.006005078546984996, -0.05986125917328231, -0.05715889004797183, -0.01396253390446589, -0.10864230529320848, 0.0026495436736348604, 0.027082542550788624, -0.0395445402422914, -0.11273738942835733, 0.016771322782086526, 0.018475332796492085, 0.001614742414639235, -0.08161603652568836, -0.05313576296000613, 0.045378491772924294, 0.024046880151957002, 0.07145181304169487, 0.027229747233687998, -0.03009584808969249, 0.028257166208872808, 0.04877363418131704, 0.08107433684582999, 0.022528756296181195, -0.11266291058569097, 0.05259992191146476, -0.06543984705142088, 0.008843873094169834, 0.0924408611289943, -0.10684111959537196, 0.026471834963646988, -0.0669269702099703, -0.05215490985407671, 0.0713122005640924, 0.08081105917284878, 0.08922253447651193, 0.0008323268279926757, -0.04896812439164589, -0.05544127097334489, 0.025432320798422864, 0.09078058760666108, -0.03980158514989926, -0.10741077153830969, -0.10449255822542289, -0.013542588344939502, 0.05614006119867396, -0.10802734332788032, 0.061780338515634727, -0.01872112948112619, 0.06336655078839373, 0.001240482270551041, 0.02946453102133633, 0.018911565273622782, 0.11439610891600123, -0.04801901828099377, 0.0721532771965006, 0.014952379401056697, 0.03426613344957776, 0.011727909583861641, 0.02178648456521745, 0.04977828412787339, -0.052227331404975166, 0.12587705518297787, -0.020793375158990886, 0.0019683095598806363, -0.032545399134547494, -0.0715274375090228, 0.10363518083927649, -0.00128286217730611, -0.04741250208840656, 0.043828511549559815, 0.046157748025011915, -0.11065768374625021, -0.0037024473959494514, -0.0185620749857954, -0.0025822734473959497, -0.019484981977578544, 0.10229484263010025, -0.052942590189762564, -0.02272164026511133, -0.07617173512344916, -0.06412449161637773, 0.09702965821348568, 0.10519803473956911, -0.022538322084653603, 0.023349875683394916, 0.013828172464457736, 0.11553092888676242, 0.095450640829444, -0.05599281294535406, -0.04588963277848308, -0.03422359973542236, -0.04580344115574736, 0.06098444299548985, 0.018970460128177623, -0.05547507951141281, 0.055921172061536045, -0.1741525430937797, -0.10002740836751901, 0.02582127199786463, -0.019605885273826222, 0.01628263255345138, -0.05537741660220216, -0.03217287300853716, 0.07398047706616863, 0.051017142720303214, 0.012767771562743939, -0.05933371397463992, -0.09081054459885923, 0.032170552926037474, 0.020614262493758334, 0.031312599450609914, -0.02662295267664752, 0.09345871653491594, 0.0740744293597887, -0.061677956469844315, -0.024405895158621453, 0.04356626720850797, -0.08432298098603104, 0.025963740617211302, 0.04053055374610433, -0.07342908888754154, -0.04873975697787782, -0.07425848824307198, 0.06635586224409443, -0.018201553882712183, -0.08387527800955005, -0.07833416129595834, -0.07591795219206776, -0.04275964482066309, -0.022459912931352424, 0.05388114694594803, -0.025679503518966293, -0.015116167774161603, -0.002039404956834176, -0.08294705197287379, -0.0545398460643163, -0.030954676950688285, -0.03265968136313925, -0.022906885507427283, -0.0418968031362531, 0.00041535107426783624, -0.0942965383066029, 0.015476743506768989, -0.008985310690953645, -0.06360938570423805, -0.03977526416431945, 6.2540184237736e-05, -0.03230160238545249, 0.04261845865014238, -0.001334539296941259, -0.05582560499469535, -0.08765915556029609, 0.01690877076479643, -0.032496917813947694, 0.05929481494407836, 0.02695270321659645, -0.050430298888616214, -0.0004801828071408429, -0.00645177037035756, -0.0054098628871352, 0.053023403873716804, 0.04704528288634692, 0.019419515293002412, -0.10689378868022306, 0.06263716256413301, -0.09330032626767176, -0.0012828674217835179, 0.007632786847020758, -0.01741303775043318, 0.005219832270929571, 0.11142241201934869, 0.03302226609439395, 0.06884342013673503, -0.05714408372374929, 0.036944092273680944, -0.020623005353846584, -0.03627317980175507, 0.007393875037765257, 0.07372297525816768, 0.0064058883996795934, 0.0358938929711176, 0.004814841795859788, 0.11085876325572955, 0.048415567917819737, 0.05274636782091723, -0.1111236298526816, 0.04670578793478036, -0.0076682334870926405, -0.07585640781676503, 0.012585548245692725, 0.034761526691198016, -0.10840156677134553, 0.02979567467202237, 0.039021414029387726, 0.07219824070322275, 0.03908551057510417, -0.00024390373745614147, -0.0771853698024873, -0.05007226107384058, -0.09389427756480259, -0.03167538596793805, -0.06018723040290562, -0.06485191608869326, -0.04879219933910165, -0.007248943763533702, 0.06675155019552267, -0.03522043952524745, 0.08147232857352585, -0.006793366309556986, -0.006933838321247873, -0.06888300595913141, -0.04276970189667755, 0.08446812569092212, 0.014591957647824928, -0.0023521612598702488, 0.006948896372164226, -0.01671166348095879, -0.007231678391496951, 0.040918769445941444, -0.02070240914297885, 0.0009832226746527215, 0.03236872843321849, -0.08468124312693573, 0.10616070420660989, -0.055475944725174677, -0.0012899924028641832, 0.005911149747169511, 0.07405882418590497, -0.10270004982124384, -0.09626618410807325, -0.01640096174257785, 0.032158044374549596, -0.06452550586503375, -0.13717040011573647, -0.048118739662701256, -0.024548375118988098, 0.03996472799078911, -0.00460159720082462, -0.01265227124853193, 0.03642834687559053, 0.08509966568328489, -0.02623351565869006, 0.026600455717090177, -0.06754803849250007, 0.019293967678834713, -0.022237845932247466, -0.04688739966874514, -0.023027408357721275, 0.059730936372372166, -0.09638657465185396, -0.028876742386215508, -0.15105507808096977, 0.0339594392224867, -0.09765542950398347, 0.01414958084575052, 0.01086611229510083, 0.129939034777422, -0.01718921897021745, 0.09166076355867095, -0.1327556440881277, 0.042838605839331495, -0.04042587793115633, -0.11131705184602757, 0.01801972419279773, -0.013681305703719955, -0.11852785008620202, 0.1017970055997901, 0.021186604179827068, 0.0012288208243811383, -0.1309056008690868, 0.007999560434792587, 0.017861775721503804, 0.024311142711131356, -0.06344684922767861, 0.11199187451315609, -0.0410330257640456, 0.08917152182299604, -0.058262201756040424, -0.11163901902647262, -0.02492605021145272, 0.05756484809430676, 0.008186371728298975, -0.05114451241031913, -0.056828745820321346, -0.08216934811114508, -0.00010003605441546992, -0.005821179091392209, -0.011335069206458104, -0.02749822025734977, -0.059562554748351725, 0.006619526634781131, -0.08789364707127142, 0.049301756281707784, -0.054005482307309505, -0.08293351169268735, 0.03939670774087491, 0.056982196478252395, 0.047994623350636645, -0.048908037249534325, -0.03396635165742578, 0.04816466047651441, 0.032687441353874344, -0.019792185065668558, -0.00042403907190102785, -0.05354129267815704, 0.044130378060724826, 0.017454666994694376, -0.014928488650397434, 0.028884942119468807, -0.06815811352520654, -0.07608635879180915, 0.049404433682543825, 0.035246068018195575, 0.05237435674034788, -0.029540271053828192, 0.04735216060829267, -0.0831123256675299, 0.006449608612587275, -0.0023701210282462, 0.09370673267942929, 0.0018408239132298165, -0.06616503946133824, -0.052024394095729225, 0.06026385417884983, 0.04288948401492586, -0.05183798627036575, -0.03894550151277955, 0.009651044053054635, 0.06308387203878707, 0.05539431475077274, 0.05693612963576413, 0.07517609682030353, -0.05389669391638299, 0.023814329597404774, -0.1026059484157936, 0.03295396039616991, 0.023738779527335746, 0.059455301411476764, 0.13616948707154836, -0.0400221550237397, 0.012961092027180023, 0.07266673869254195, -0.12910641724479544, 1.63234684046748e-05, -0.07806188854822976, -0.0684619969023421, 0.05718208869804516, -0.020467448661841588, 0.014153270157226831, -0.06774193877121579, 0.035884562850448797, 0.0960470891798984, 0.039501014040866325, 0.01845932040253661, -0.06675265698533572, 0.02155579938815494, 0.004480133630937244, -0.08058089108239169, -0.020684136863799774, 0.018302811712131228, 0.044860887708843514, 0.09961297792446483, -0.0075070956507777495, -0.022570643661713984, -0.09281824103093797, 0.039810536107699336, -0.02872233226303767, 0.05027676857100182, -0.03318588914401875, -0.0236149813672977, -0.06111888376656509, 0.003206157431673025, 0.0006360590789916756, -0.012920725658202382, 0.023845988119261134, 0.025340392778566048, 0.015041877312401412, -0.03927869658708364, 0.0697392181908656, 0.011975653396226027, -0.16983251913705902, 0.023138815496849187, -0.08989272520012792, 0.0011746587303701345, -0.05731047425934483, -0.04433945736129929, -0.10765661572068708, -0.13991098892236797, -0.042239178808549396, 0.03121158276756499, -0.06145643782192913, 0.03767973949348824, -0.142614013449497, -0.07810905349255536, -0.03857705084181267, -0.03996076034633976, -0.08837980982343559, 0.056141592933272026, 0.024775574171109975, -0.014882009800590928, -0.02672668702219444, -0.08258328477066976, 0.0336246883462305, -0.07727498786489288, 0.0438248102876177, 0.07355064694425073]\n"
     ]
    }
   ],
   "source": [
    "print(actual_differences)\n",
    "print(fake_differences)"
   ]
  },
  {
   "cell_type": "code",
   "execution_count": 147,
   "metadata": {},
   "outputs": [
    {
     "name": "stdout",
     "output_type": "stream",
     "text": [
      "0.0\n"
     ]
    }
   ],
   "source": [
    "# compute the proportion of fake differences < the actual difference\n",
    "\n",
    "print(np.sum([actual_differences<x for x in fake_differences])/len(fake_differences))"
   ]
  },
  {
   "cell_type": "code",
   "execution_count": 141,
   "metadata": {},
   "outputs": [
    {
     "data": {
      "text/plain": [
       "<matplotlib.image.AxesImage at 0x7f95699bdbe0>"
      ]
     },
     "execution_count": 141,
     "metadata": {},
     "output_type": "execute_result"
    },
    {
     "data": {
      "image/png": "[encoded data removed]",
      "text/plain": [
       "<Figure size 432x288 with 1 Axes>"
      ]
     },
     "metadata": {
      "needs_background": "light"
     },
     "output_type": "display_data"
    }
   ],
   "source": [
    "plt.imshow(z_score_diff)"
   ]
  },
  {
   "cell_type": "code",
   "execution_count": 142,
   "metadata": {},
   "outputs": [
    {
     "data": {
      "text/plain": [
       "<matplotlib.image.AxesImage at 0x7f956a1d9970>"
      ]
     },
     "execution_count": 142,
     "metadata": {},
     "output_type": "execute_result"
    },
    {
     "data": {
      "image/png": "[encoded data removed]",
      "text/plain": [
       "<Figure size 432x288 with 1 Axes>"
      ]
     },
     "metadata": {
      "needs_background": "light"
     },
     "output_type": "display_data"
    }
   ],
   "source": [
    "plt.imshow(shuffled_z_score_diffs)"
   ]
  },
  {
   "cell_type": "code",
   "execution_count": null,
   "metadata": {},
   "outputs": [],
   "source": []
  }
 ],
 "metadata": {
  "kernelspec": {
   "display_name": "Python 3",
   "language": "python",
   "name": "python3"
  },
  "language_info": {
   "codemirror_mode": {
    "name": "ipython",
    "version": 3
   },
   "file_extension": ".py",
   "mimetype": "text/x-python",
   "name": "python",
   "nbconvert_exporter": "python",
   "pygments_lexer": "ipython3",
   "version": "3.8.5"
  }
 },
 "nbformat": 4,
 "nbformat_minor": 4
}
